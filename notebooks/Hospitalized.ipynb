{
 "cells": [
  {
   "cell_type": "markdown",
   "metadata": {},
   "source": [
    "#### Import Necessary libraries"
   ]
  },
  {
   "cell_type": "code",
   "execution_count": 16,
   "metadata": {},
   "outputs": [],
   "source": [
    "from sklearn.model_selection import train_test_split\n",
    "import numpy as np \n",
    "import pandas as pd \n",
    "import seaborn as sns\n",
    "from sklearn.tree import DecisionTreeRegressor\n",
    "import statsmodels.api as sm\n",
    "from sklearn.model_selection import RandomizedSearchCV\n",
    "from sklearn.metrics import mean_squared_error\n",
    "from sklearn.metrics import mean_absolute_error\n",
    "import math\n",
    "import matplotlib.pyplot as plt\n",
    "from datetime import date"
   ]
  },
  {
   "cell_type": "code",
   "execution_count": 17,
   "metadata": {},
   "outputs": [],
   "source": [
    "from sklearn.ensemble import RandomForestRegressor\n",
    "from sklearn.model_selection import GridSearchCV"
   ]
  },
  {
   "cell_type": "code",
   "execution_count": 18,
   "metadata": {},
   "outputs": [],
   "source": [
    "import shap\n",
    "import random"
   ]
  },
  {
   "cell_type": "code",
   "execution_count": 4,
   "metadata": {},
   "outputs": [],
   "source": [
    "pd.options.display.max_rows = 120000\n",
    "from sklearn.metrics import r2_score\n",
    "from sklearn.tree import export_graphviz\n",
    "from sklearn import preprocessing"
   ]
  },
  {
   "cell_type": "markdown",
   "metadata": {},
   "source": [
    "#### Read data"
   ]
  },
  {
   "cell_type": "code",
   "execution_count": 5,
   "metadata": {},
   "outputs": [],
   "source": [
    "encounters = pd.read_csv(\"train/encounters.csv\")\n",
    "patients = pd.read_csv(\"train/patients.csv\")\n",
    "conditions = pd.read_csv(\"train/conditions.csv\")\n",
    "observations = pd.read_csv('train/observations.csv')"
   ]
  },
  {
   "cell_type": "code",
   "execution_count": 6,
   "metadata": {},
   "outputs": [],
   "source": [
    "encounters_test = pd.read_csv(\"test/test/encounters.csv\")\n",
    "patients_test = pd.read_csv(\"test/test/patients.csv\")\n",
    "conditions_test = pd.read_csv(\"test/test/conditions.csv\")\n",
    "observations_test = pd.read_csv('test/test/observations.csv')"
   ]
  },
  {
   "cell_type": "code",
   "execution_count": 7,
   "metadata": {},
   "outputs": [],
   "source": [
    "covid_test = pd.read_csv('COVID_19 Status.csv').rename(columns = {'Id':'PATIENT'})"
   ]
  },
  {
   "cell_type": "code",
   "execution_count": 8,
   "metadata": {},
   "outputs": [
    {
     "data": {
      "text/plain": [
       "29492"
      ]
     },
     "execution_count": 8,
     "metadata": {},
     "output_type": "execute_result"
    }
   ],
   "source": [
    "patients_test.Id.nunique()"
   ]
  },
  {
   "cell_type": "markdown",
   "metadata": {},
   "source": [
    "#### Function for preprocesing train data"
   ]
  },
  {
   "cell_type": "code",
   "execution_count": 9,
   "metadata": {},
   "outputs": [],
   "source": [
    "def preprocess(encounters, patients, conditions, observations):\n",
    "    covid_patients_ids = conditions[conditions.CODE == 840539006].PATIENT.unique()\n",
    "    inpatient = encounters[(encounters.REASONCODE==840539006) & (encounters.CODE == 1505002)].rename(columns = {'Id':'ENCOUNTER'})\n",
    "    \n",
    "    ##Change data type\n",
    "    inpatient[['START','STOP']] = inpatient[['START','STOP']].astype('datetime64[ns]')\n",
    "    patients[['BIRTHDATE','DEATHDATE']] = patients[['BIRTHDATE','DEATHDATE']].astype('datetime64[ns]')\n",
    "    conditions[['START','STOP']] = conditions[['START','STOP']].astype('datetime64[ns]')\n",
    "    inpatient['days_hospitalized'] = (inpatient['STOP']- inpatient['START']).astype('timedelta64[s]').astype(float)/86400\n",
    "    \n",
    "    ##join inpatients with patient data file \n",
    "    inpatient_df = pd.merge(inpatient, patients[['Id', 'BIRTHDATE', 'DEATHDATE','GENDER']],how='left' ,right_on = 'Id', left_on = 'PATIENT')\n",
    "    inpatient_df.drop(['START','STOP','PAYER','DESCRIPTION','ENCOUNTERCLASS','CODE'], axis=1,inplace=True)\n",
    "    df_inpatient_observation = pd.merge(inpatient_df, observations[['ENCOUNTER', 'PATIENT','DESCRIPTION','VALUE','UNITS']], on = ['ENCOUNTER', 'PATIENT'], how = 'left')\n",
    "    df_inpatient_observation.sort_values('PATIENT', inplace = True)\n",
    "    df_inpatient_observation['VALUE'] = pd.to_numeric(df_inpatient_observation['VALUE'], errors='coerce')\n",
    "    \n",
    "    #include top 20 occuring observation (only 11 features are present in test data)\n",
    "    Avg_values = pd.DataFrame(df_inpatient_observation.groupby(['ENCOUNTER','PATIENT','DESCRIPTION'])['VALUE'].mean()).reset_index()\n",
    "    test_include = pd.DataFrame(Avg_values.DESCRIPTION.value_counts().reset_index()).head(20)['index'].tolist()\n",
    "    data_top_test = df_inpatient_observation[df_inpatient_observation['DESCRIPTION'].isin(test_include)].reset_index(drop=True)\n",
    "    \n",
    "    #Convert from long to wide format\n",
    "    table = pd.pivot_table(data_top_test, values='VALUE', index=['ENCOUNTER','PATIENT'],\n",
    "                    columns=['DESCRIPTION'], aggfunc=np.max).reset_index(drop = False)\n",
    "    \n",
    "    #Include Age as feature\n",
    "    inpatient_df['BIRTHDATE'] = inpatient_df['BIRTHDATE'].astype('datetime64[ns]')\n",
    "    inpatient_df['DEATHDATE'] = inpatient_df['DEATHDATE'].astype('datetime64[ns]')\n",
    "    inpatient_df['AGE'] = np.where(inpatient_df['DEATHDATE'].dt.year.isna(), 2020-inpatient_df['BIRTHDATE'].dt.year, inpatient_df['DEATHDATE'].dt.year - inpatient_df['BIRTHDATE'].dt.year)\n",
    "    \n",
    "    #Merge observation with inpatient data\n",
    "    inpatient_observation = pd.merge(table, inpatient_df[['ENCOUNTER', 'PATIENT','days_hospitalized','BIRTHDATE','DEATHDATE','GENDER','AGE']], on=['ENCOUNTER', 'PATIENT'], how='inner')\n",
    "    inpatient_observation['Gender'] = np.where(inpatient_observation['GENDER']=='M',1,0)\n",
    "\n",
    "    #Include only these condition code(out of these only 'Acute respiratory failure (disorder)':65710008 is found in test data)\n",
    "    conditions_subset = [65710008, 770349000, 67782005, 132281000119108, 706870000, 389087006]\n",
    " \n",
    "    covid_patient_conditions = conditions[(conditions.PATIENT.isin(\n",
    "    covid_patients_ids)) & (conditions.CODE.isin(conditions_subset))].reset_index()    \n",
    "    \n",
    "    latest_date = pd.Series(['2020-05-26 00:00:00']*len(covid_patient_conditions))\n",
    "    latest_date = pd.to_datetime(latest_date, infer_datetime_format=True)\n",
    "    \n",
    "    #count of days between STOP and START \n",
    "    covid_patient_conditions['condition_days'] = np.where(covid_patient_conditions.STOP.isna(), (latest_date-covid_patient_conditions['START']).astype('timedelta64[s]').astype(float)/86400,(covid_patient_conditions['STOP']-covid_patient_conditions['START']).astype('timedelta64[s]').astype(float)/86400)\n",
    "    table_condition = pd.pivot_table(covid_patient_conditions, values='condition_days', index=['ENCOUNTER','PATIENT'],\n",
    "                    columns=['DESCRIPTION']).reset_index(drop = False).fillna(0)\n",
    "    \n",
    "    #Merge with condition data\n",
    "    Merge_condition = pd.merge(inpatient_observation, table_condition, on=['PATIENT','ENCOUNTER'], how='left').fillna(0)\n",
    "    \n",
    "    features = ['Gender','AGE']+table.drop(['PATIENT','ENCOUNTER'], axis=1).columns.tolist() + table_condition.drop(['PATIENT','ENCOUNTER'], axis=1).columns.tolist()\n",
    "    return Merge_condition,features, table.drop(['PATIENT','ENCOUNTER'], axis=1).columns.tolist(), table_condition.drop(['PATIENT','ENCOUNTER'], axis=1).columns.tolist()"
   ]
  },
  {
   "cell_type": "code",
   "execution_count": 10,
   "metadata": {},
   "outputs": [],
   "source": [
    "Merge_condition, features, observation_feature, condition_feature = preprocess(encounters, patients, conditions, observations)"
   ]
  },
  {
   "cell_type": "markdown",
   "metadata": {},
   "source": [
    "#### Function for preprocessing test file"
   ]
  },
  {
   "cell_type": "code",
   "execution_count": 11,
   "metadata": {
    "scrolled": true
   },
   "outputs": [],
   "source": [
    "def preprocess_test_data(covid_test, observation_feature, condition_feature, encounters_test, patients_test, conditions_test, observations_test):\n",
    "    covid_patients_ids = covid_test[covid_test['predicted']==True].PATIENT.unique()\n",
    "    inpatient = encounters_test[(encounters_test['PATIENT'].isin(covid_patients_ids))].rename(columns = {'Id':'ENCOUNTER'})\n",
    "\n",
    "    inpatient[['START','STOP']] = inpatient[['START','STOP']].astype('datetime64[ns]')\n",
    "    patients_test[['BIRTHDATE','DEATHDATE']] = patients_test[['BIRTHDATE','DEATHDATE']].astype('datetime64[ns]')\n",
    "    conditions_test[['START','STOP']] = conditions_test[['START','STOP']].astype('datetime64[ns]')\n",
    "    patients_test.loc[:, 'COVERAGE_EXPENSE_RATIO'] = patients_test.apply(lambda x: x['HEALTHCARE_COVERAGE']/x['HEALTHCARE_EXPENSES'], axis = 1)\n",
    "\n",
    "    ##join inpatients with patient data file \n",
    "    inpatient_df = pd.merge(inpatient, patients_test[['Id', 'BIRTHDATE', 'DEATHDATE','GENDER']],how='left' ,right_on = 'Id', left_on = 'PATIENT')\n",
    " \n",
    "    inpatient_df.drop(['START','STOP','PAYER','DESCRIPTION','ENCOUNTERCLASS','CODE'], axis=1,inplace=True)\n",
    "    df_inpatient_observation = pd.merge(inpatient_df, observations_test[['ENCOUNTER', 'PATIENT','DESCRIPTION','VALUE','UNITS']], on = ['ENCOUNTER', 'PATIENT'], how = 'left')\n",
    "    df_inpatient_observation.sort_values('PATIENT', inplace = True)\n",
    "    df_inpatient_observation['VALUE'] = pd.to_numeric(df_inpatient_observation['VALUE'], errors='coerce')\n",
    "    \n",
    "    #include top 20 occuring observation (only 11 features are present in test data)\n",
    "    \n",
    "    #Convert from long to wide format\n",
    "    table = pd.pivot_table(df_inpatient_observation, values='VALUE', index=['PATIENT'],\n",
    "                    columns=['DESCRIPTION'], aggfunc=np.max).reset_index(drop = False)\n",
    "    table = table[list(set(df_inpatient_observation.DESCRIPTION.unique()) & set(observation_feature))+['PATIENT']]\n",
    "\n",
    "    #Include Age as feature\n",
    "    inpatient_df['BIRTHDATE'] = inpatient_df['BIRTHDATE'].astype('datetime64[ns]')\n",
    "    inpatient_df['DEATHDATE'] = inpatient_df['DEATHDATE'].astype('datetime64[ns]')\n",
    "    inpatient_df['AGE'] = np.where(inpatient_df['DEATHDATE'].dt.year.isna(), 2020-inpatient_df['BIRTHDATE'].dt.year, inpatient_df['DEATHDATE'].dt.year - inpatient_df['BIRTHDATE'].dt.year)\n",
    "    \n",
    "    #Merge observation with inpatient data\n",
    "    inpatient_observation = pd.merge(table, inpatient_df[['PATIENT','BIRTHDATE','DEATHDATE','GENDER','AGE']], on=['PATIENT'], how='left')\n",
    "    inpatient_observation['Gender'] = np.where(inpatient_observation['GENDER']=='M',1,0)\n",
    "    inpatient_observation.drop_duplicates(inplace=True)\n",
    "\n",
    "    #features = ['Gender','AGE']+table.drop(['PATIENT','ENCOUNTER'], axis=1).columns.tolist()\n",
    "    \n",
    "    #Include only these condition code(out of these only 'Acute respiratory failure (disorder)':65710008 is found in test data)\n",
    "    conditions_subset = [65710008, 770349000, 67782005, 132281000119108, 706870000, 389087006]\n",
    " \n",
    "    covid_patient_conditions = conditions_test[(conditions_test.PATIENT.isin(\n",
    "    covid_patients_ids)) & (conditions_test.CODE.isin(conditions_subset))].reset_index()    \n",
    "\n",
    "    latest_date = pd.Series(['2020-05-26 00:00:00']*len(covid_patient_conditions))\n",
    "    latest_date = pd.to_datetime(latest_date, infer_datetime_format=True)\n",
    "    \n",
    "    #count of days between STOP and START \n",
    "    covid_patient_conditions['condition_days'] = np.where(covid_patient_conditions.STOP.isna(), (latest_date-covid_patient_conditions['START']).astype('timedelta64[s]').astype(float)/86400,(covid_patient_conditions['STOP']-covid_patient_conditions['START']).astype('timedelta64[s]').astype(float)/86400)\n",
    "    table_condition = pd.pivot_table(covid_patient_conditions, values='condition_days', index=['PATIENT'],\n",
    "                    columns=['DESCRIPTION']).reset_index(drop = False).fillna(0)\n",
    "\n",
    "    #Merge with condition data\n",
    "    Merge_condition = pd.merge(inpatient_observation, table_condition, on=['PATIENT'], how='left').fillna(0)\n",
    "    features = ['Gender','AGE']+table.drop(['PATIENT'], axis=1).columns.tolist() + table_condition.drop(['PATIENT'], axis=1).columns.tolist()\n",
    "    return Merge_condition,features, table.drop(['PATIENT'], axis=1).columns.tolist(), table_condition.drop(['PATIENT'], axis=1).columns.tolist()"
   ]
  },
  {
   "cell_type": "markdown",
   "metadata": {},
   "source": [
    "Split train and test data"
   ]
  },
  {
   "cell_type": "code",
   "execution_count": 12,
   "metadata": {},
   "outputs": [],
   "source": [
    "X_train, X_test, y_train, y_test = train_test_split(Merge_condition[features], Merge_condition['days_hospitalized'], test_size=0.33, random_state=42)"
   ]
  },
  {
   "cell_type": "markdown",
   "metadata": {},
   "source": [
    "#### Construct Random forest and decision tree to visualize split"
   ]
  },
  {
   "cell_type": "code",
   "execution_count": 13,
   "metadata": {},
   "outputs": [],
   "source": [
    "def param_Search_CV(X_train, y_train):\n",
    "    estimator = RandomForestRegressor()\n",
    "    param_grid = { \n",
    "            \"n_estimators\"  : [100,150,300, 500],\n",
    "            \"max_features\"  : [\"auto\", \"sqrt\", \"log2\"],\n",
    "            \"max_depth\"     : [3, 4, 6, None],\n",
    "           'min_samples_leaf':[12,20 , 50],\n",
    "           'min_samples_split':[15, 50, 80],\n",
    "            \"bootstrap\": [True, False],\n",
    "            }\n",
    "\n",
    "    grid = RandomizedSearchCV(estimator, param_grid, n_jobs=-1, cv=5)\n",
    "    grid.fit(X_train, y_train)\n",
    "    return grid.best_score_ , grid.best_params_\n",
    "score, param = param_Search_CV(X_train, y_train)"
   ]
  },
  {
   "cell_type": "code",
   "execution_count": 14,
   "metadata": {},
   "outputs": [
    {
     "data": {
      "text/plain": [
       "{'n_estimators': 150,\n",
       " 'min_samples_split': 80,\n",
       " 'min_samples_leaf': 12,\n",
       " 'max_features': 'auto',\n",
       " 'max_depth': None,\n",
       " 'bootstrap': True}"
      ]
     },
     "execution_count": 14,
     "metadata": {},
     "output_type": "execute_result"
    }
   ],
   "source": [
    "param"
   ]
  },
  {
   "cell_type": "code",
   "execution_count": 12,
   "metadata": {},
   "outputs": [
    {
     "data": {
      "text/plain": [
       "{'max_depth': 7,\n",
       " 'max_features': None,\n",
       " 'min_samples_leaf': 150,\n",
       " 'min_samples_split': 80,\n",
       " 'splitter': 'best'}"
      ]
     },
     "execution_count": 12,
     "metadata": {},
     "output_type": "execute_result"
    }
   ],
   "source": [
    "tree = DecisionTreeRegressor(random_state = 42)\n",
    "rf_p_dist={'splitter' : ['best','random'],\n",
    "            'max_depth':[3,7, 10,None],\n",
    "              'max_features':[3, 10,  None],\n",
    "           'min_samples_leaf':[100, 150, 300],\n",
    "               'min_samples_split':[80, 100, 200],\n",
    "           #'criterion'=['mae','mse','friedman_mse'],\n",
    "              }\n",
    "clf = GridSearchCV(tree, rf_p_dist)\n",
    "search = clf.fit(X_train,y_train)\n",
    "search.best_params_"
   ]
  },
  {
   "cell_type": "code",
   "execution_count": 23,
   "metadata": {
    "code_folding": []
   },
   "outputs": [],
   "source": [
    "def rmse(x,y): return math.sqrt(((x-y)**2).mean())\n",
    "def decision_tree(train, train_labels, test, test_labels):\n",
    "    rf = DecisionTreeRegressor(min_samples_leaf=100, min_samples_split=80,\n",
    "                                max_depth=10, max_features=10,splitter='best',criterion='friedman_mse',\n",
    "                                random_state =42).fit(train, train_labels)\n",
    "    pred = rf. predict(test)\n",
    "    pred_train = rf. predict(train)\n",
    "    \n",
    "    x=np.median(train_labels)\n",
    "    medianpredict1 = [x for _ in test_labels] \n",
    "    \n",
    "    print('rmse baseline: ',rmse(medianpredict1, test_labels))\n",
    "    print('MAE baseline: ',mean_absolute_error(test_labels,medianpredict1))\n",
    "    print(\"rmse_test\",rmse(pred, test_labels))\n",
    "    print(\"MAE test\", mean_absolute_error(test_labels, pred))\n",
    "    print(\"r2 score\",r2_score(test_labels, pred))\n",
    "    print('rmse train', rmse(pred_train, train_labels))\n",
    "    print('MAE train', mean_absolute_error(train_labels, pred_train))\n",
    "    #tree_graph = tree.export_graphviz(rf, out_file=None, feature_names=features)\n",
    "    return pred, pred_train, rf"
   ]
  },
  {
   "cell_type": "code",
   "execution_count": 21,
   "metadata": {},
   "outputs": [],
   "source": [
    "def create_random_forest(train,  train_labels,test, test_labels,best_params ):\n",
    "    rf = RandomForestRegressor(n_jobs=-1, random_state =50).set_params(**best_params)\n",
    "    rf.fit(train,train_labels)\n",
    "    pred = rf. predict(test)\n",
    "    pred_train = rf. predict(train)\n",
    "    x=np.median(train_labels)\n",
    "    medianpredict1 = [x for _ in test_labels] \n",
    "    \n",
    "    print('rmse baseline: ',rmse(medianpredict1, test_labels))\n",
    "    print('MAE baseline: ',mean_absolute_error(test_labels,medianpredict1))\n",
    "    print(\"rmse_test\",rmse(pred, test_labels))\n",
    "    print(\"MAE test\", mean_absolute_error(test_labels, pred))\n",
    "    print(\"r2 score\",r2_score(test_labels, pred))\n",
    "    print('rmse train', rmse(pred_train, train_labels))\n",
    "    print('MAE train', mean_absolute_error(train_labels, pred_train))\n",
    "    #tree_graph = tree.export_graphviz(rf, out_file=None, feature_names=features)\n",
    "    return pred, pred_train, rf"
   ]
  },
  {
   "cell_type": "code",
   "execution_count": 24,
   "metadata": {},
   "outputs": [
    {
     "name": "stdout",
     "output_type": "stream",
     "text": [
      "rmse baseline:  5.015392578448755\n",
      "MAE baseline:  4.104795204383056\n",
      "rmse_test 2.9336809428964705\n",
      "MAE test 2.0429787559827095\n",
      "r2 score 0.6490502901117154\n",
      "rmse train 2.6619719325019857\n",
      "MAE train 1.8558508989860938\n"
     ]
    }
   ],
   "source": [
    "pred, pred_train, rf = create_random_forest(X_train, y_train, X_test, y_test, param)"
   ]
  },
  {
   "cell_type": "markdown",
   "metadata": {},
   "source": [
    "### Use random forest for prediction"
   ]
  },
  {
   "cell_type": "code",
   "execution_count": 33,
   "metadata": {},
   "outputs": [],
   "source": [
    "def rmse(x,y): return math.sqrt(((x-y)**2).mean())\n",
    "def create_random_forest_test(train, train_labels, test):\n",
    "    rf = RandomForestRegressor(n_jobs=-1, random_state =50).set_params(**best_params).fit(train, train_labels)\n",
    "    pred = rf.predict(test)\n",
    "    pred_train = rf.predict(train)\n",
    "    print('rmse train', rmse(pred_train, train_labels))\n",
    "    print('MAE train', mean_absolute_error(train_labels, pred_train))\n",
    "    return pred, pred_train, rf"
   ]
  },
  {
   "cell_type": "markdown",
   "metadata": {},
   "source": [
    "#### Feature importance"
   ]
  },
  {
   "cell_type": "code",
   "execution_count": 38,
   "metadata": {
    "code_folding": [],
    "collapsed": true
   },
   "outputs": [
    {
     "data": {
      "text/html": [
       "<div>\n",
       "<style scoped>\n",
       "    .dataframe tbody tr th:only-of-type {\n",
       "        vertical-align: middle;\n",
       "    }\n",
       "\n",
       "    .dataframe tbody tr th {\n",
       "        vertical-align: top;\n",
       "    }\n",
       "\n",
       "    .dataframe thead th {\n",
       "        text-align: right;\n",
       "    }\n",
       "</style>\n",
       "<table border=\"1\" class=\"dataframe\">\n",
       "  <thead>\n",
       "    <tr style=\"text-align: right;\">\n",
       "      <th></th>\n",
       "      <th>feature_name</th>\n",
       "      <th>importance</th>\n",
       "    </tr>\n",
       "  </thead>\n",
       "  <tbody>\n",
       "    <tr>\n",
       "      <td>0</td>\n",
       "      <td>Fibrin D-dimer FEU [Mass/volume] in Platelet p...</td>\n",
       "      <td>0.520028</td>\n",
       "    </tr>\n",
       "    <tr>\n",
       "      <td>1</td>\n",
       "      <td>Lymphocytes [#/volume] in Blood by Automated c...</td>\n",
       "      <td>0.212647</td>\n",
       "    </tr>\n",
       "    <tr>\n",
       "      <td>2</td>\n",
       "      <td>Sepsis caused by virus (disorder)</td>\n",
       "      <td>0.121449</td>\n",
       "    </tr>\n",
       "    <tr>\n",
       "      <td>3</td>\n",
       "      <td>Acute respiratory failure (disorder)</td>\n",
       "      <td>0.035389</td>\n",
       "    </tr>\n",
       "    <tr>\n",
       "      <td>4</td>\n",
       "      <td>Platelets [#/volume] in Blood by Automated count</td>\n",
       "      <td>0.017078</td>\n",
       "    </tr>\n",
       "    <tr>\n",
       "      <td>5</td>\n",
       "      <td>Sodium [Moles/volume] in Serum or Plasma</td>\n",
       "      <td>0.007484</td>\n",
       "    </tr>\n",
       "    <tr>\n",
       "      <td>6</td>\n",
       "      <td>Heart rate</td>\n",
       "      <td>0.007145</td>\n",
       "    </tr>\n",
       "    <tr>\n",
       "      <td>7</td>\n",
       "      <td>AGE</td>\n",
       "      <td>0.006412</td>\n",
       "    </tr>\n",
       "    <tr>\n",
       "      <td>8</td>\n",
       "      <td>Acute deep venous thrombosis (disorder)</td>\n",
       "      <td>0.006198</td>\n",
       "    </tr>\n",
       "    <tr>\n",
       "      <td>9</td>\n",
       "      <td>Calcium [Mass/volume] in Serum or Plasma</td>\n",
       "      <td>0.005609</td>\n",
       "    </tr>\n",
       "    <tr>\n",
       "      <td>10</td>\n",
       "      <td>Body Weight</td>\n",
       "      <td>0.005427</td>\n",
       "    </tr>\n",
       "    <tr>\n",
       "      <td>11</td>\n",
       "      <td>MCV [Entitic volume] by Automated count</td>\n",
       "      <td>0.005376</td>\n",
       "    </tr>\n",
       "    <tr>\n",
       "      <td>12</td>\n",
       "      <td>Alanine aminotransferase [Enzymatic activity/v...</td>\n",
       "      <td>0.005301</td>\n",
       "    </tr>\n",
       "    <tr>\n",
       "      <td>13</td>\n",
       "      <td>Acute pulmonary embolism (disorder)</td>\n",
       "      <td>0.005151</td>\n",
       "    </tr>\n",
       "    <tr>\n",
       "      <td>14</td>\n",
       "      <td>Lymphocytes/100 leukocytes in Blood by Automat...</td>\n",
       "      <td>0.005137</td>\n",
       "    </tr>\n",
       "    <tr>\n",
       "      <td>15</td>\n",
       "      <td>Neutrophils/100 leukocytes in Blood by Automat...</td>\n",
       "      <td>0.005056</td>\n",
       "    </tr>\n",
       "    <tr>\n",
       "      <td>16</td>\n",
       "      <td>Glomerular filtration rate/1.73 sq M.predicted</td>\n",
       "      <td>0.004157</td>\n",
       "    </tr>\n",
       "    <tr>\n",
       "      <td>17</td>\n",
       "      <td>Hypoxemia (disorder)</td>\n",
       "      <td>0.003904</td>\n",
       "    </tr>\n",
       "    <tr>\n",
       "      <td>18</td>\n",
       "      <td>Hematocrit [Volume Fraction] of Blood by Autom...</td>\n",
       "      <td>0.003712</td>\n",
       "    </tr>\n",
       "    <tr>\n",
       "      <td>19</td>\n",
       "      <td>Prothrombin time (PT)</td>\n",
       "      <td>0.003151</td>\n",
       "    </tr>\n",
       "  </tbody>\n",
       "</table>\n",
       "</div>"
      ],
      "text/plain": [
       "                                         feature_name  importance\n",
       "0   Fibrin D-dimer FEU [Mass/volume] in Platelet p...    0.520028\n",
       "1   Lymphocytes [#/volume] in Blood by Automated c...    0.212647\n",
       "2                   Sepsis caused by virus (disorder)    0.121449\n",
       "3                Acute respiratory failure (disorder)    0.035389\n",
       "4    Platelets [#/volume] in Blood by Automated count    0.017078\n",
       "5            Sodium [Moles/volume] in Serum or Plasma    0.007484\n",
       "6                                          Heart rate    0.007145\n",
       "7                                                 AGE    0.006412\n",
       "8             Acute deep venous thrombosis (disorder)    0.006198\n",
       "9            Calcium [Mass/volume] in Serum or Plasma    0.005609\n",
       "10                                        Body Weight    0.005427\n",
       "11            MCV [Entitic volume] by Automated count    0.005376\n",
       "12  Alanine aminotransferase [Enzymatic activity/v...    0.005301\n",
       "13                Acute pulmonary embolism (disorder)    0.005151\n",
       "14  Lymphocytes/100 leukocytes in Blood by Automat...    0.005137\n",
       "15  Neutrophils/100 leukocytes in Blood by Automat...    0.005056\n",
       "16     Glomerular filtration rate/1.73 sq M.predicted    0.004157\n",
       "17                               Hypoxemia (disorder)    0.003904\n",
       "18  Hematocrit [Volume Fraction] of Blood by Autom...    0.003712\n",
       "19                              Prothrombin time (PT)    0.003151"
      ]
     },
     "execution_count": 38,
     "metadata": {},
     "output_type": "execute_result"
    }
   ],
   "source": [
    "# Create plot\n",
    "importances = rf.feature_importances_\n",
    "\n",
    "indices = np.argsort(importances)[::-1]\n",
    "names = [X_train.columns[i] for i in indices]\n",
    "pd.DataFrame({'feature_name': names, 'importance':importances[indices]}).head(20)\n"
   ]
  },
  {
   "cell_type": "code",
   "execution_count": 45,
   "metadata": {
    "code_folding": [
     0
    ]
   },
   "outputs": [],
   "source": [
    "export_graphviz(\n",
    "            rf,\n",
    "            out_file =  \"tree.dot\",\n",
    "            feature_names = list(X_train.columns),\n",
    "            filled = True,\n",
    "            rounded = True)\n",
    "#Type below line in anaconda prompt\n",
    "#dot -Tpng tree.dot > out3.png"
   ]
  },
  {
   "cell_type": "markdown",
   "metadata": {},
   "source": [
    "#### SHAP Interpretation"
   ]
  },
  {
   "cell_type": "code",
   "execution_count": null,
   "metadata": {},
   "outputs": [],
   "source": [
    "shap_values = shap.TreeExplainer(rf).shap_values(X_train)\n",
    "shap.summary_plot(shap_values, X_train,  plot_type='bar')#,"
   ]
  },
  {
   "cell_type": "markdown",
   "metadata": {},
   "source": [
    "### Construct test data"
   ]
  },
  {
   "cell_type": "code",
   "execution_count": 27,
   "metadata": {},
   "outputs": [
    {
     "name": "stderr",
     "output_type": "stream",
     "text": [
      "merging between different levels can give an unintended result (1 levels on the left, 2 on the right)\n"
     ]
    }
   ],
   "source": [
    "merge_condition_test, features_test, observation_test_feature, condition_test_feature = preprocess_test_data(covid_test, observation_feature, condition_feature, encounters_test, patients_test, conditions_test, observations_test)"
   ]
  },
  {
   "cell_type": "markdown",
   "metadata": {},
   "source": [
    "#### For columns not present fill with zeros"
   ]
  },
  {
   "cell_type": "code",
   "execution_count": 28,
   "metadata": {},
   "outputs": [],
   "source": [
    "df = np.zeros(shape=(merge_condition_test.shape[0],len(set(features)-set(features_test))))\n",
    "test_df = pd.DataFrame(df, columns = list(set(features)-set(features_test)))\n",
    "merge_condition_test[test_df.columns] = test_df"
   ]
  },
  {
   "cell_type": "code",
   "execution_count": 29,
   "metadata": {},
   "outputs": [],
   "source": [
    "df_test = covid_test[['PATIENT']].copy()##file containing all PAtient IDs"
   ]
  },
  {
   "cell_type": "code",
   "execution_count": 34,
   "metadata": {},
   "outputs": [
    {
     "name": "stdout",
     "output_type": "stream",
     "text": [
      "rmse train 2.643924541715352\n",
      "MAE train 1.8344720341044762\n"
     ]
    }
   ],
   "source": [
    "##Train on whole data\n",
    "pred, pred_train, rf = create_random_forest_test(Merge_condition[features], Merge_condition['days_hospitalized'], merge_condition_test[features_test+test_df.columns.tolist()],param)\n",
    "merge_condition_test['days_hospitalized'] = pred"
   ]
  },
  {
   "cell_type": "code",
   "execution_count": 41,
   "metadata": {},
   "outputs": [],
   "source": [
    "test = pd.merge(df_test,merge_condition_test[['PATIENT','days_hospitalized']], on=['PATIENT'], how='outer').fillna(0).rename(columns={'PATIENT':'Id'})"
   ]
  },
  {
   "cell_type": "code",
   "execution_count": 46,
   "metadata": {},
   "outputs": [],
   "source": [
    "test.to_csv('days_hospitalized.csv',index=False)"
   ]
  },
  {
   "cell_type": "markdown",
   "metadata": {},
   "source": [
    "Distribution of predicted hospitalized days"
   ]
  },
  {
   "cell_type": "code",
   "execution_count": 36,
   "metadata": {},
   "outputs": [
    {
     "data": {
      "text/plain": [
       "count    11971.000000\n",
       "mean         8.085929\n",
       "std          1.389379\n",
       "min          7.523529\n",
       "25%          7.601152\n",
       "50%          7.655299\n",
       "75%          7.784835\n",
       "max         13.326237\n",
       "Name: days_hospitalized, dtype: float64"
      ]
     },
     "execution_count": 36,
     "metadata": {},
     "output_type": "execute_result"
    }
   ],
   "source": [
    "test[test['days_hospitalized']!=0].days_hospitalized.describe()"
   ]
  },
  {
   "cell_type": "code",
   "execution_count": 37,
   "metadata": {},
   "outputs": [
    {
     "data": {
      "text/plain": [
       "<matplotlib.axes._subplots.AxesSubplot at 0x21ea016b668>"
      ]
     },
     "execution_count": 37,
     "metadata": {},
     "output_type": "execute_result"
    },
    {
     "data": {
      "image/png": "[encoded data removed]",
      "text/plain": [
       "<Figure size 432x288 with 1 Axes>"
      ]
     },
     "metadata": {
      "needs_background": "light"
     },
     "output_type": "display_data"
    }
   ],
   "source": [
    "sns.distplot(test.days_hospitalized)"
   ]
  },
  {
   "cell_type": "code",
   "execution_count": null,
   "metadata": {},
   "outputs": [],
   "source": []
  },
  {
   "cell_type": "code",
   "execution_count": null,
   "metadata": {},
   "outputs": [],
   "source": []
  },
  {
   "cell_type": "code",
   "execution_count": null,
   "metadata": {},
   "outputs": [],
   "source": []
  }
 ],
 "metadata": {
  "kernelspec": {
   "display_name": "Python 3",
   "language": "python",
   "name": "python3"
  },
  "language_info": {
   "codemirror_mode": {
    "name": "ipython",
    "version": 3
   },
   "file_extension": ".py",
   "mimetype": "text/x-python",
   "name": "python",
   "nbconvert_exporter": "python",
   "pygments_lexer": "ipython3",
   "version": "3.6.9"
  }
 },
 "nbformat": 4,
 "nbformat_minor": 2
}
