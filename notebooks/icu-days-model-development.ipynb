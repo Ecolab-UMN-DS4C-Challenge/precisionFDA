{
 "cells": [
  {
   "cell_type": "code",
   "execution_count": 304,
   "metadata": {},
   "outputs": [],
   "source": [
    "import dask.dataframe as dd\n",
    "import pandas as pd\n",
    "import numpy as np\n",
    "from matplotlib import pyplot as plt\n",
    "import seaborn as sns\n",
    "from scipy import stats\n",
    "from sklearn.model_selection import train_test_split\n",
    "from sklearn.linear_model import LinearRegression, Lasso, Ridge\n",
    "from sklearn.ensemble import RandomForestRegressor\n",
    "from sklearn.tree import DecisionTreeRegressor\n",
    "from itertools import combinations\n",
    "from sklearn.feature_selection import SelectKBest, chi2\n",
    "from sklearn.feature_selection import mutual_info_regression\n",
    "from sklearn.model_selection import RandomizedSearchCV\n",
    "import pickle"
   ]
  },
  {
   "cell_type": "code",
   "execution_count": 524,
   "metadata": {},
   "outputs": [],
   "source": [
    "ddf_patients = dd.read_csv('../data/raw/train/patients.csv')\n",
    "ddf_procedures = dd.read_csv('../data/raw/train/procedures.csv')\n",
    "ddf_conditions = dd.read_csv('../data/raw/train/conditions.csv')\n",
    "ddf_encounters = dd.read_csv('../data/raw/train/encounters.csv')\n",
    "ddf_careplans = dd.read_csv('../data/raw/train/careplans.csv')\n",
    "ddf_observations = dd.read_csv('../data/raw/train/observations.csv', dtype=str)\n",
    "ddf_alergies = dd.read_csv('../data/raw/train/observations.csv')"
   ]
  },
  {
   "cell_type": "code",
   "execution_count": 525,
   "metadata": {},
   "outputs": [
    {
     "data": {
      "text/html": [
       "<div>\n",
       "<style scoped>\n",
       "    .dataframe tbody tr th:only-of-type {\n",
       "        vertical-align: middle;\n",
       "    }\n",
       "\n",
       "    .dataframe tbody tr th {\n",
       "        vertical-align: top;\n",
       "    }\n",
       "\n",
       "    .dataframe thead th {\n",
       "        text-align: right;\n",
       "    }\n",
       "</style>\n",
       "<table border=\"1\" class=\"dataframe\">\n",
       "  <thead>\n",
       "    <tr style=\"text-align: right;\">\n",
       "      <th></th>\n",
       "      <th>DAYS_IN_ICU</th>\n",
       "    </tr>\n",
       "  </thead>\n",
       "  <tbody>\n",
       "    <tr>\n",
       "      <th>c58ae02e-235e-4db2-a9c3-6926e9c0c5fa</th>\n",
       "      <td>7.128472</td>\n",
       "    </tr>\n",
       "    <tr>\n",
       "      <th>52e1f151-e98b-4163-a250-5e7d5c6ff813</th>\n",
       "      <td>9.399306</td>\n",
       "    </tr>\n",
       "    <tr>\n",
       "      <th>534e1ef3-b3c7-42da-a022-fea54d6c828f</th>\n",
       "      <td>7.151389</td>\n",
       "    </tr>\n",
       "    <tr>\n",
       "      <th>5158d043-8c93-4987-8fcb-5f94e7e32fa1</th>\n",
       "      <td>5.811806</td>\n",
       "    </tr>\n",
       "    <tr>\n",
       "      <th>b5499d4a-6660-4b09-bfc0-e3d33e3dcb5e</th>\n",
       "      <td>7.941667</td>\n",
       "    </tr>\n",
       "    <tr>\n",
       "      <th>...</th>\n",
       "      <td>...</td>\n",
       "    </tr>\n",
       "    <tr>\n",
       "      <th>9c92df1f-e325-43c2-9bc0-1380eeaf3958</th>\n",
       "      <td>6.694444</td>\n",
       "    </tr>\n",
       "    <tr>\n",
       "      <th>6cda9ea0-5264-4465-9a9c-8315994a488f</th>\n",
       "      <td>5.938889</td>\n",
       "    </tr>\n",
       "    <tr>\n",
       "      <th>9529dc13-c7f1-4f76-b903-4e310b7805c8</th>\n",
       "      <td>4.180556</td>\n",
       "    </tr>\n",
       "    <tr>\n",
       "      <th>65d3785a-6150-4b86-8842-c40ca654e3c4</th>\n",
       "      <td>9.905556</td>\n",
       "    </tr>\n",
       "    <tr>\n",
       "      <th>8722685f-ce37-4520-ab95-22b6929526c2</th>\n",
       "      <td>3.245833</td>\n",
       "    </tr>\n",
       "  </tbody>\n",
       "</table>\n",
       "<p>4981 rows × 1 columns</p>\n",
       "</div>"
      ],
      "text/plain": [
       "                                      DAYS_IN_ICU\n",
       "c58ae02e-235e-4db2-a9c3-6926e9c0c5fa     7.128472\n",
       "52e1f151-e98b-4163-a250-5e7d5c6ff813     9.399306\n",
       "534e1ef3-b3c7-42da-a022-fea54d6c828f     7.151389\n",
       "5158d043-8c93-4987-8fcb-5f94e7e32fa1     5.811806\n",
       "b5499d4a-6660-4b09-bfc0-e3d33e3dcb5e     7.941667\n",
       "...                                           ...\n",
       "9c92df1f-e325-43c2-9bc0-1380eeaf3958     6.694444\n",
       "6cda9ea0-5264-4465-9a9c-8315994a488f     5.938889\n",
       "9529dc13-c7f1-4f76-b903-4e310b7805c8     4.180556\n",
       "65d3785a-6150-4b86-8842-c40ca654e3c4     9.905556\n",
       "8722685f-ce37-4520-ab95-22b6929526c2     3.245833\n",
       "\n",
       "[4981 rows x 1 columns]"
      ]
     },
     "execution_count": 525,
     "metadata": {},
     "output_type": "execute_result"
    }
   ],
   "source": [
    "covid_patients_ids = ddf_conditions[ddf_conditions.CODE == 840539006].PATIENT.unique().compute()\n",
    "\n",
    "icu_ids = ddf_encounters[\n",
    "    (ddf_encounters.CODE == 305351004) & \n",
    "    (ddf_encounters.PATIENT.isin(covid_patients_ids))].PATIENT.compute()\n",
    "\n",
    "ddf_icu_encounters = ddf_encounters[\n",
    "    (ddf_encounters.CODE == 305351004) & \n",
    "    (ddf_encounters.PATIENT.isin(covid_patients_ids))]\n",
    "\n",
    "days_in_icu = ((ddf_icu_encounters['STOP'].astype('M8[s]')\\\n",
    "                - ddf_icu_encounters['START'].astype('M8[s]')\n",
    "               ).astype('timedelta64[s]').astype(float)/86400).compute()\n",
    "\n",
    "patient_list = ddf_icu_encounters.PATIENT.values.compute()\n",
    "\n",
    "icu_target = pd.DataFrame(days_in_icu.values, columns=['DAYS_IN_ICU'], index=patient_list)\n",
    "\n",
    "icu_target"
   ]
  },
  {
   "cell_type": "code",
   "execution_count": 526,
   "metadata": {},
   "outputs": [],
   "source": [
    "def numeric_like(x):\n",
    "    try:\n",
    "        float(x)\n",
    "        return True\n",
    "    except:\n",
    "        return False"
   ]
  },
  {
   "cell_type": "markdown",
   "metadata": {},
   "source": [
    "# Create Condition Features"
   ]
  },
  {
   "cell_type": "code",
   "execution_count": 527,
   "metadata": {},
   "outputs": [],
   "source": [
    "conditions_subset = [65710008, 69896004, 195967001]\n",
    "covid_patient_conditions = ddf_conditions[ddf_conditions.PATIENT.isin(icu_ids)]\n",
    "condition_dictionary = {code: covid_patient_conditions[covid_patient_conditions['CODE']==code]['PATIENT'].unique().compute() for code in conditions_subset}\n",
    "condition_description = pd.DataFrame(ddf_conditions['DESCRIPTION'].values.compute(), index=ddf_conditions['CODE'].values.compute()).to_dict()[0]"
   ]
  },
  {
   "cell_type": "code",
   "execution_count": 528,
   "metadata": {},
   "outputs": [],
   "source": [
    "def create_feature_dictionary(ddf, patient_subset, column, value_subset):\n",
    "    patient_feature = ddf[ddf.PATIENT.isin(patient_subset)]\n",
    "    patient_feature_dictionary = {code: patient_feature[patient_feature[column]==value]['PATIENT'].unique().compute() for value in value_subset}\n",
    "    return patient_feature_dictionary\n",
    "\n",
    "def create_binary_feature(ddf, patient_feature_dictionary, value):\n",
    "    temp1 = patient_feature_dictionary[value]\n",
    "    temp2 = ddf[~ddf.PATIENT.isin(patient_feature_dictionary[value].values)].PATIENT.unique().compute()\n",
    "    df1 = pd.DataFrame(np.ones(len(temp1)).astype(int), index=temp1)\n",
    "    df2 = pd.DataFrame(np.zeros(len(temp2)).astype(int), index=temp2)\n",
    "    df = pd.concat([df1, df2])\n",
    "    df.columns = [condition_description[condition]]\n",
    "    return df"
   ]
  },
  {
   "cell_type": "code",
   "execution_count": 529,
   "metadata": {},
   "outputs": [],
   "source": [
    "df_features = create_condition_feature_table(conditions_subset)\n",
    "for x in combinations(range(8), 2):\n",
    "    df_features[f'comorbidity_{x}'] = df_features.iloc[:, x[0]]*df_features.iloc[:, x[1]]"
   ]
  },
  {
   "cell_type": "markdown",
   "metadata": {},
   "source": [
    "# Create Procedure Features"
   ]
  },
  {
   "cell_type": "code",
   "execution_count": 530,
   "metadata": {},
   "outputs": [],
   "source": [
    "df = ddf_procedures[['PATIENT', 'CODE']].compute()"
   ]
  },
  {
   "cell_type": "code",
   "execution_count": 531,
   "metadata": {},
   "outputs": [],
   "source": [
    "codes = df['CODE'].value_counts()[df['CODE'].value_counts()>1000].index"
   ]
  },
  {
   "cell_type": "code",
   "execution_count": 532,
   "metadata": {},
   "outputs": [],
   "source": [
    "df['Value'] = 1"
   ]
  },
  {
   "cell_type": "code",
   "execution_count": 533,
   "metadata": {},
   "outputs": [],
   "source": [
    "df = df[df['CODE'].isin(codes)].pivot_table(index='PATIENT', columns='CODE', values='Value', aggfunc='mean').fillna(0)"
   ]
  },
  {
   "cell_type": "code",
   "execution_count": 534,
   "metadata": {},
   "outputs": [],
   "source": [
    "df = df[df.index.isin(icu_ids)]"
   ]
  },
  {
   "cell_type": "code",
   "execution_count": 535,
   "metadata": {},
   "outputs": [],
   "source": [
    "df_features = pd.merge(df, df_features, left_index=True, right_index=True)"
   ]
  },
  {
   "cell_type": "markdown",
   "metadata": {},
   "source": [
    "# Create Observation Features"
   ]
  },
  {
   "cell_type": "code",
   "execution_count": 536,
   "metadata": {},
   "outputs": [],
   "source": [
    "df = ddf_observations[['PATIENT', 'CODE', 'VALUE']].compute()\n",
    "df = df[df['PATIENT'].isin(icu_ids)]\n",
    "df = df[df['VALUE'].map(numeric_like)]\n",
    "feature_codes = ['14804-9', '1960-4', '1988-5', '19994-3', '2019-8', '2157-6',\n",
    "       '2160-0', '2276-4', '2703-7', '2708-6', '2744-1', '2885-2',\n",
    "       '33959-8', '4548-4', '48065-7', '5902-2', '6301-6', '704-7',\n",
    "       '711-2', '731-0', '8310-5', '89579-7']\n",
    "df = df[df['CODE'].isin(feature_codes)]\n",
    "df['VALUE'] = df['VALUE'].astype(float)\n",
    "df = df.pivot_table(index='PATIENT', columns='CODE', values='VALUE', aggfunc='mean').fillna(0)"
   ]
  },
  {
   "cell_type": "code",
   "execution_count": 537,
   "metadata": {},
   "outputs": [],
   "source": [
    "df_features = pd.merge(df, df_features, left_index=True, right_index=True)"
   ]
  },
  {
   "cell_type": "markdown",
   "metadata": {},
   "source": [
    "# Create Demographic Features"
   ]
  },
  {
   "cell_type": "code",
   "execution_count": 538,
   "metadata": {},
   "outputs": [],
   "source": [
    "temp = (np.datetime64('NOW') - ddf_patients['BIRTHDATE'].astype('M8[D]').compute()).astype('timedelta64[Y]').astype(float)\n",
    "df_age = pd.DataFrame(temp.values, index = ddf_patients.compute().Id)\n",
    "df_age.columns = ['AGE']"
   ]
  },
  {
   "cell_type": "code",
   "execution_count": 539,
   "metadata": {},
   "outputs": [],
   "source": [
    "df = ddf_patients[ddf_patients['Id'].isin(icu_ids)][['Id', 'GENDER', 'HEALTHCARE_COVERAGE']].compute()"
   ]
  },
  {
   "cell_type": "code",
   "execution_count": 540,
   "metadata": {},
   "outputs": [],
   "source": [
    "df['GENDER'] = df['GENDER'].map(lambda x: int(x=='M'))\n",
    "df.index = df['Id']"
   ]
  },
  {
   "cell_type": "code",
   "execution_count": 541,
   "metadata": {},
   "outputs": [
    {
     "data": {
      "text/html": [
       "<div>\n",
       "<style scoped>\n",
       "    .dataframe tbody tr th:only-of-type {\n",
       "        vertical-align: middle;\n",
       "    }\n",
       "\n",
       "    .dataframe tbody tr th {\n",
       "        vertical-align: top;\n",
       "    }\n",
       "\n",
       "    .dataframe thead th {\n",
       "        text-align: right;\n",
       "    }\n",
       "</style>\n",
       "<table border=\"1\" class=\"dataframe\">\n",
       "  <thead>\n",
       "    <tr style=\"text-align: right;\">\n",
       "      <th></th>\n",
       "      <th>Id</th>\n",
       "      <th>GENDER</th>\n",
       "      <th>HEALTHCARE_COVERAGE</th>\n",
       "    </tr>\n",
       "    <tr>\n",
       "      <th>Id</th>\n",
       "      <th></th>\n",
       "      <th></th>\n",
       "      <th></th>\n",
       "    </tr>\n",
       "  </thead>\n",
       "  <tbody>\n",
       "    <tr>\n",
       "      <th>c58ae02e-235e-4db2-a9c3-6926e9c0c5fa</th>\n",
       "      <td>c58ae02e-235e-4db2-a9c3-6926e9c0c5fa</td>\n",
       "      <td>1</td>\n",
       "      <td>8303.87</td>\n",
       "    </tr>\n",
       "    <tr>\n",
       "      <th>52e1f151-e98b-4163-a250-5e7d5c6ff813</th>\n",
       "      <td>52e1f151-e98b-4163-a250-5e7d5c6ff813</td>\n",
       "      <td>0</td>\n",
       "      <td>14480.93</td>\n",
       "    </tr>\n",
       "    <tr>\n",
       "      <th>534e1ef3-b3c7-42da-a022-fea54d6c828f</th>\n",
       "      <td>534e1ef3-b3c7-42da-a022-fea54d6c828f</td>\n",
       "      <td>1</td>\n",
       "      <td>15017.50</td>\n",
       "    </tr>\n",
       "    <tr>\n",
       "      <th>5158d043-8c93-4987-8fcb-5f94e7e32fa1</th>\n",
       "      <td>5158d043-8c93-4987-8fcb-5f94e7e32fa1</td>\n",
       "      <td>1</td>\n",
       "      <td>0.00</td>\n",
       "    </tr>\n",
       "    <tr>\n",
       "      <th>b5499d4a-6660-4b09-bfc0-e3d33e3dcb5e</th>\n",
       "      <td>b5499d4a-6660-4b09-bfc0-e3d33e3dcb5e</td>\n",
       "      <td>0</td>\n",
       "      <td>161162.15</td>\n",
       "    </tr>\n",
       "    <tr>\n",
       "      <th>...</th>\n",
       "      <td>...</td>\n",
       "      <td>...</td>\n",
       "      <td>...</td>\n",
       "    </tr>\n",
       "    <tr>\n",
       "      <th>9c92df1f-e325-43c2-9bc0-1380eeaf3958</th>\n",
       "      <td>9c92df1f-e325-43c2-9bc0-1380eeaf3958</td>\n",
       "      <td>1</td>\n",
       "      <td>150692.07</td>\n",
       "    </tr>\n",
       "    <tr>\n",
       "      <th>6cda9ea0-5264-4465-9a9c-8315994a488f</th>\n",
       "      <td>6cda9ea0-5264-4465-9a9c-8315994a488f</td>\n",
       "      <td>0</td>\n",
       "      <td>120989.97</td>\n",
       "    </tr>\n",
       "    <tr>\n",
       "      <th>9529dc13-c7f1-4f76-b903-4e310b7805c8</th>\n",
       "      <td>9529dc13-c7f1-4f76-b903-4e310b7805c8</td>\n",
       "      <td>0</td>\n",
       "      <td>20740.26</td>\n",
       "    </tr>\n",
       "    <tr>\n",
       "      <th>65d3785a-6150-4b86-8842-c40ca654e3c4</th>\n",
       "      <td>65d3785a-6150-4b86-8842-c40ca654e3c4</td>\n",
       "      <td>0</td>\n",
       "      <td>66791.97</td>\n",
       "    </tr>\n",
       "    <tr>\n",
       "      <th>8722685f-ce37-4520-ab95-22b6929526c2</th>\n",
       "      <td>8722685f-ce37-4520-ab95-22b6929526c2</td>\n",
       "      <td>1</td>\n",
       "      <td>46200.70</td>\n",
       "    </tr>\n",
       "  </tbody>\n",
       "</table>\n",
       "<p>4981 rows × 3 columns</p>\n",
       "</div>"
      ],
      "text/plain": [
       "                                                                        Id  \\\n",
       "Id                                                                           \n",
       "c58ae02e-235e-4db2-a9c3-6926e9c0c5fa  c58ae02e-235e-4db2-a9c3-6926e9c0c5fa   \n",
       "52e1f151-e98b-4163-a250-5e7d5c6ff813  52e1f151-e98b-4163-a250-5e7d5c6ff813   \n",
       "534e1ef3-b3c7-42da-a022-fea54d6c828f  534e1ef3-b3c7-42da-a022-fea54d6c828f   \n",
       "5158d043-8c93-4987-8fcb-5f94e7e32fa1  5158d043-8c93-4987-8fcb-5f94e7e32fa1   \n",
       "b5499d4a-6660-4b09-bfc0-e3d33e3dcb5e  b5499d4a-6660-4b09-bfc0-e3d33e3dcb5e   \n",
       "...                                                                    ...   \n",
       "9c92df1f-e325-43c2-9bc0-1380eeaf3958  9c92df1f-e325-43c2-9bc0-1380eeaf3958   \n",
       "6cda9ea0-5264-4465-9a9c-8315994a488f  6cda9ea0-5264-4465-9a9c-8315994a488f   \n",
       "9529dc13-c7f1-4f76-b903-4e310b7805c8  9529dc13-c7f1-4f76-b903-4e310b7805c8   \n",
       "65d3785a-6150-4b86-8842-c40ca654e3c4  65d3785a-6150-4b86-8842-c40ca654e3c4   \n",
       "8722685f-ce37-4520-ab95-22b6929526c2  8722685f-ce37-4520-ab95-22b6929526c2   \n",
       "\n",
       "                                      GENDER  HEALTHCARE_COVERAGE  \n",
       "Id                                                                 \n",
       "c58ae02e-235e-4db2-a9c3-6926e9c0c5fa       1              8303.87  \n",
       "52e1f151-e98b-4163-a250-5e7d5c6ff813       0             14480.93  \n",
       "534e1ef3-b3c7-42da-a022-fea54d6c828f       1             15017.50  \n",
       "5158d043-8c93-4987-8fcb-5f94e7e32fa1       1                 0.00  \n",
       "b5499d4a-6660-4b09-bfc0-e3d33e3dcb5e       0            161162.15  \n",
       "...                                      ...                  ...  \n",
       "9c92df1f-e325-43c2-9bc0-1380eeaf3958       1            150692.07  \n",
       "6cda9ea0-5264-4465-9a9c-8315994a488f       0            120989.97  \n",
       "9529dc13-c7f1-4f76-b903-4e310b7805c8       0             20740.26  \n",
       "65d3785a-6150-4b86-8842-c40ca654e3c4       0             66791.97  \n",
       "8722685f-ce37-4520-ab95-22b6929526c2       1             46200.70  \n",
       "\n",
       "[4981 rows x 3 columns]"
      ]
     },
     "execution_count": 541,
     "metadata": {},
     "output_type": "execute_result"
    }
   ],
   "source": [
    "df"
   ]
  },
  {
   "cell_type": "code",
   "execution_count": 542,
   "metadata": {},
   "outputs": [],
   "source": [
    "df_features = pd.merge(df.iloc[:, 1:], df_features, left_index=True, right_index=True)"
   ]
  },
  {
   "cell_type": "code",
   "execution_count": 544,
   "metadata": {},
   "outputs": [],
   "source": [
    "df_features = pd.merge(df_age, df_features, left_index=True, right_index=True)[['AGE', 'HEALTHCARE_COVERAGE', '2160-0', '2708-6', '2885-2', '4548-4', '8310-5', 'Acute respiratory failure (disorder)']]"
   ]
  },
  {
   "cell_type": "markdown",
   "metadata": {},
   "source": [
    "# Modelling"
   ]
  },
  {
   "cell_type": "code",
   "execution_count": 545,
   "metadata": {},
   "outputs": [],
   "source": [
    "df_training_table = pd.merge(df_features, icu_target, how='outer', left_index=True, right_index=True).fillna(0)"
   ]
  },
  {
   "cell_type": "code",
   "execution_count": 546,
   "metadata": {},
   "outputs": [],
   "source": [
    "X = df_training_table.iloc[:, :-1].values\n",
    "y = df_training_table.iloc[:, -1].values"
   ]
  },
  {
   "cell_type": "code",
   "execution_count": 549,
   "metadata": {},
   "outputs": [],
   "source": [
    "fs = SelectKBest(score_func=mutual_info_regression, k='all')"
   ]
  },
  {
   "cell_type": "code",
   "execution_count": 550,
   "metadata": {},
   "outputs": [
    {
     "data": {
      "text/plain": [
       "array([[7.90000000e+01, 1.43759500e+04, 2.74545455e+00, ...,\n",
       "        0.00000000e+00, 4.02083333e+01, 1.00000000e+00],\n",
       "       [6.30000000e+01, 6.42928000e+03, 2.69285714e+00, ...,\n",
       "        0.00000000e+00, 3.98600000e+01, 1.00000000e+00],\n",
       "       [6.80000000e+01, 1.23318200e+04, 2.82000000e+00, ...,\n",
       "        6.30000000e+00, 4.08562500e+01, 1.00000000e+00],\n",
       "       ...,\n",
       "       [6.00000000e+01, 4.99112000e+03, 2.74285714e+00, ...,\n",
       "        5.90000000e+00, 3.97133333e+01, 1.00000000e+00],\n",
       "       [8.30000000e+01, 1.13035150e+05, 2.72222222e+00, ...,\n",
       "        4.60000000e+00, 3.95583333e+01, 1.00000000e+00],\n",
       "       [6.20000000e+01, 5.76112000e+03, 2.73750000e+00, ...,\n",
       "        0.00000000e+00, 3.93823529e+01, 1.00000000e+00]])"
      ]
     },
     "execution_count": 550,
     "metadata": {},
     "output_type": "execute_result"
    }
   ],
   "source": [
    "fs.fit_transform(X, y)"
   ]
  },
  {
   "cell_type": "code",
   "execution_count": 551,
   "metadata": {},
   "outputs": [],
   "source": [
    "features = np.where(fs.scores_>0.05)[0]"
   ]
  },
  {
   "cell_type": "code",
   "execution_count": 552,
   "metadata": {},
   "outputs": [
    {
     "data": {
      "text/plain": [
       "array([0, 1, 2, 3, 4, 5, 6, 7], dtype=int64)"
      ]
     },
     "execution_count": 552,
     "metadata": {},
     "output_type": "execute_result"
    }
   ],
   "source": [
    "features"
   ]
  },
  {
   "cell_type": "code",
   "execution_count": 553,
   "metadata": {},
   "outputs": [],
   "source": [
    "def param_Search_CV(X_train, y_train):\n",
    "    estimator = DecisionTreeRegressor()\n",
    "    param_grid = { \n",
    "            \"max_features\" : [10, 20, 30, 40],\n",
    "            \"max_depth\"     : [3, 4, 6, None],\n",
    "           'min_samples_leaf':[5, 8, 12, 16, 20],\n",
    "            'criterion': ['mse', 'friedman_mse', 'mae'],\n",
    "           'min_samples_split': [8, 15, 25, 50, 75, 100, 150],\n",
    "            }\n",
    "\n",
    "    grid = RandomizedSearchCV(estimator, param_grid, n_jobs=-1, cv=5)\n",
    "    grid.fit(X_train, y_train)\n",
    "    return grid.best_score_ , grid.best_params_"
   ]
  },
  {
   "cell_type": "code",
   "execution_count": 554,
   "metadata": {},
   "outputs": [
    {
     "data": {
      "text/plain": [
       "(0.5539656154720897,\n",
       " {'min_samples_split': 75,\n",
       "  'min_samples_leaf': 12,\n",
       "  'max_features': 10,\n",
       "  'max_depth': 6,\n",
       "  'criterion': 'mse'})"
      ]
     },
     "execution_count": 554,
     "metadata": {},
     "output_type": "execute_result"
    }
   ],
   "source": [
    "param_Search_CV(X_train, y_train)"
   ]
  },
  {
   "cell_type": "markdown",
   "metadata": {},
   "source": [
    "(0.5614889885193556,\n",
    "\n",
    " {'min_samples_split': 100,\n",
    " \n",
    "  'min_samples_leaf': 12,\n",
    "  \n",
    "  'max_features': 40,\n",
    "  \n",
    "  'max_depth': 6,\n",
    "  \n",
    "  'criterion': 'mse'})"
   ]
  },
  {
   "cell_type": "code",
   "execution_count": 557,
   "metadata": {},
   "outputs": [
    {
     "name": "stdout",
     "output_type": "stream",
     "text": [
      "0.13504715236998543\n",
      "0.1349797959661767\n",
      "0.1351584818666045\n",
      "0.17853469620850346\n",
      "0.21415091504912254\n",
      "6.170587366836353\n",
      "6.345257263349153\n",
      "6.343946533261856\n",
      "6.02576524937272\n",
      "5.764506529359477\n"
     ]
    }
   ],
   "source": [
    "X = df_training_table.iloc[:, :-1].values\n",
    "y = df_training_table.iloc[:, -1].values\n",
    "\n",
    "X_train, X_test, y_train, y_test = train_test_split(X, y, test_size=0.1, random_state=13)\n",
    "\n",
    "reg = LinearRegression().fit(X_train, y_train)\n",
    "print(reg.score(X_test, y_test))\n",
    "reg1 = Lasso(alpha=0.01).fit(X_train, y_train)\n",
    "print(reg1.score(X_test, y_test))\n",
    "reg2 = Ridge(alpha=10).fit(X_train, y_train)\n",
    "print(reg2.score(X_test, y_test))\n",
    "reg3 = RandomForestRegressor(n_estimators=100, max_depth=10, max_samples=100).fit(X_train, y_train)\n",
    "print(reg3.score(X_test, y_test))\n",
    "reg4 = DecisionTreeRegressor(min_samples_split=75, min_samples_leaf=12,\n",
    "                             max_depth=6, criterion='mse').fit(X_train, y_train)\n",
    "print(reg4.score(X_test, y_test))\n",
    "from sklearn.metrics import mean_squared_error\n",
    "print(mean_squared_error((reg1.predict(X_test) + reg2.predict(X_test) + reg3.predict(X_test))/3, y_test))\n",
    "print(mean_squared_error(reg1.predict(X_test), y_test))\n",
    "print(mean_squared_error(reg2.predict(X_test), y_test))\n",
    "print(mean_squared_error(reg3.predict(X_test), y_test))\n",
    "print(mean_squared_error(reg4.predict(X_test), y_test))"
   ]
  },
  {
   "cell_type": "markdown",
   "metadata": {},
   "source": [
    "# Export GraphVis representation"
   ]
  },
  {
   "cell_type": "code",
   "execution_count": 485,
   "metadata": {},
   "outputs": [],
   "source": [
    "obs_feature_codes = df_training_table.columns[features][2:24].values"
   ]
  },
  {
   "cell_type": "code",
   "execution_count": 486,
   "metadata": {},
   "outputs": [],
   "source": [
    "obs_features = ddf_observations[ddf_observations['CODE'].isin(obs_feature_codes)][['CODE', 'DESCRIPTION']].drop_duplicates().compute()"
   ]
  },
  {
   "cell_type": "code",
   "execution_count": 487,
   "metadata": {},
   "outputs": [],
   "source": [
    "obs_features = df_training_table.columns[features][2:24].map(obs_features.groupby('CODE').agg('first').to_dict()['DESCRIPTION'])"
   ]
  },
  {
   "cell_type": "code",
   "execution_count": 488,
   "metadata": {},
   "outputs": [],
   "source": [
    "condition_features = df_training_table.columns[features][24:].values"
   ]
  },
  {
   "cell_type": "code",
   "execution_count": 489,
   "metadata": {},
   "outputs": [],
   "source": [
    "demographic_features = df_training_table.columns[features][:2].values"
   ]
  },
  {
   "cell_type": "code",
   "execution_count": 490,
   "metadata": {},
   "outputs": [],
   "source": [
    "feature_labels = np.concatenate([demographic_features, obs_features, condition_features])"
   ]
  },
  {
   "cell_type": "code",
   "execution_count": 491,
   "metadata": {},
   "outputs": [],
   "source": [
    "from sklearn.tree import export_graphviz\n",
    "export_graphviz(\n",
    "    reg4,\n",
    "    out_file =  \"tree.dot\",\n",
    "    feature_names = feature_labels,\n",
    "    filled = True,\n",
    "    rounded = True)"
   ]
  },
  {
   "cell_type": "markdown",
   "metadata": {},
   "source": [
    "# Create Predictions for Test Set"
   ]
  },
  {
   "cell_type": "code",
   "execution_count": 590,
   "metadata": {},
   "outputs": [],
   "source": [
    "loaded_icu_classification_model = pickle.load(open('finalized_icu_classification_model.sav', 'rb'))"
   ]
  },
  {
   "cell_type": "code",
   "execution_count": 559,
   "metadata": {},
   "outputs": [],
   "source": [
    "ddf_patients = dd.read_csv('../data/raw/test/patients.csv')\n",
    "ddf_procedures = dd.read_csv('../data/raw/test/procedures.csv')\n",
    "ddf_conditions = dd.read_csv('../data/raw/test/conditions.csv')\n",
    "ddf_encounters = dd.read_csv('../data/raw/test/encounters.csv')\n",
    "ddf_careplans = dd.read_csv('../data/raw/test/careplans.csv')\n",
    "ddf_observations = dd.read_csv('../data/raw/test/observations.csv', dtype=str)\n",
    "ddf_alergies = dd.read_csv('../data/raw/test/observations.csv')"
   ]
  },
  {
   "cell_type": "code",
   "execution_count": 649,
   "metadata": {},
   "outputs": [
    {
     "data": {
      "text/plain": [
       "29492"
      ]
     },
     "execution_count": 649,
     "metadata": {},
     "output_type": "execute_result"
    }
   ],
   "source": [
    "covid_predictions = pd.read_csv('../data/processed/COVID_19 Status submission.csv')\n",
    "len(covid_predictions)"
   ]
  },
  {
   "cell_type": "code",
   "execution_count": 674,
   "metadata": {},
   "outputs": [],
   "source": [
    "covid_patients_ids = covid_predictions[covid_predictions['predicted_proba'] > 0.825]['Id'].values"
   ]
  },
  {
   "cell_type": "markdown",
   "metadata": {},
   "source": [
    "# Create Condition Features"
   ]
  },
  {
   "cell_type": "code",
   "execution_count": 656,
   "metadata": {},
   "outputs": [],
   "source": [
    "conditions_subset = [65710008, 69896004, 195967001]\n",
    "covid_patient_conditions = ddf_conditions[ddf_conditions.PATIENT.isin(covid_patients_ids)]\n",
    "condition_dictionary = {code: covid_patient_conditions[covid_patient_conditions['CODE']==code]['PATIENT'].unique().compute() for code in conditions_subset}\n",
    "condition_description = pd.DataFrame(ddf_conditions['DESCRIPTION'].values.compute(), index=ddf_conditions['CODE'].values.compute()).to_dict()[0]"
   ]
  },
  {
   "cell_type": "code",
   "execution_count": 657,
   "metadata": {},
   "outputs": [],
   "source": [
    "df_features = create_condition_feature_table(conditions_subset)\n",
    "for x in combinations(range(8), 2):\n",
    "    df_features[f'comorbidity_{x}'] = df_features.iloc[:, x[0]]*df_features.iloc[:, x[1]]"
   ]
  },
  {
   "cell_type": "markdown",
   "metadata": {},
   "source": [
    "# Create Procedure Features"
   ]
  },
  {
   "cell_type": "code",
   "execution_count": 624,
   "metadata": {},
   "outputs": [],
   "source": [
    "df = ddf_procedures[['PATIENT', 'CODE']].compute()"
   ]
  },
  {
   "cell_type": "code",
   "execution_count": 625,
   "metadata": {},
   "outputs": [],
   "source": [
    "codes = df['CODE'].value_counts()[df['CODE'].value_counts()>1000].index"
   ]
  },
  {
   "cell_type": "code",
   "execution_count": 626,
   "metadata": {},
   "outputs": [],
   "source": [
    "df['Value'] = 1"
   ]
  },
  {
   "cell_type": "code",
   "execution_count": 627,
   "metadata": {},
   "outputs": [],
   "source": [
    "df = df[df['CODE'].isin(codes)].pivot_table(index='PATIENT', columns='CODE', values='Value', aggfunc='mean').fillna(0)"
   ]
  },
  {
   "cell_type": "code",
   "execution_count": 628,
   "metadata": {},
   "outputs": [],
   "source": [
    "df = df[df.index.isin(covid_patients_ids)]"
   ]
  },
  {
   "cell_type": "code",
   "execution_count": 629,
   "metadata": {},
   "outputs": [],
   "source": [
    "df_features = pd.merge(df, df_features, left_index=True, right_index=True)"
   ]
  },
  {
   "cell_type": "markdown",
   "metadata": {},
   "source": [
    "# Create Observation Features"
   ]
  },
  {
   "cell_type": "code",
   "execution_count": 630,
   "metadata": {},
   "outputs": [],
   "source": [
    "df = ddf_observations[['PATIENT', 'CODE', 'VALUE']].compute()\n",
    "df = df[df['PATIENT'].isin(covid_patients_ids)]\n",
    "df = df[df['VALUE'].map(numeric_like)]\n",
    "feature_codes = ['14804-9', '1960-4', '1988-5', '19994-3', '2019-8', '2157-6',\n",
    "       '2160-0', '2276-4', '2703-7', '2708-6', '2744-1', '2885-2',\n",
    "       '33959-8', '4548-4', '48065-7', '5902-2', '6301-6', '704-7',\n",
    "       '711-2', '731-0', '8310-5', '89579-7']\n",
    "df = df[df['CODE'].isin(feature_codes)]\n",
    "df['VALUE'] = df['VALUE'].astype(float)\n",
    "df = df.pivot_table(index='PATIENT', columns='CODE', values='VALUE', aggfunc='mean').fillna(0)"
   ]
  },
  {
   "cell_type": "code",
   "execution_count": 631,
   "metadata": {},
   "outputs": [],
   "source": [
    "df_features = pd.merge(df, df_features, left_index=True, right_index=True)"
   ]
  },
  {
   "cell_type": "markdown",
   "metadata": {},
   "source": [
    "# Create Demographic Features"
   ]
  },
  {
   "cell_type": "code",
   "execution_count": 632,
   "metadata": {},
   "outputs": [],
   "source": [
    "temp = (np.datetime64('NOW') - ddf_patients['BIRTHDATE'].astype('M8[D]').compute()).astype('timedelta64[Y]').astype(float)\n",
    "df_age = pd.DataFrame(temp.values, index = ddf_patients.compute().Id)\n",
    "df_age.columns = ['AGE']"
   ]
  },
  {
   "cell_type": "code",
   "execution_count": 633,
   "metadata": {},
   "outputs": [],
   "source": [
    "df = ddf_patients[ddf_patients['Id'].isin(covid_patients_ids)][['Id', 'GENDER', 'HEALTHCARE_COVERAGE']].compute()"
   ]
  },
  {
   "cell_type": "code",
   "execution_count": 634,
   "metadata": {},
   "outputs": [],
   "source": [
    "df['GENDER'] = df['GENDER'].map(lambda x: int(x=='M'))\n",
    "df.index = df['Id']"
   ]
  },
  {
   "cell_type": "code",
   "execution_count": 635,
   "metadata": {},
   "outputs": [],
   "source": [
    "df_features = pd.merge(df.iloc[:, 1:], df_features, left_index=True, right_index=True)"
   ]
  },
  {
   "cell_type": "code",
   "execution_count": 636,
   "metadata": {},
   "outputs": [],
   "source": [
    "df_features = pd.merge(df_age, df_features, left_index=True, right_index=True)"
   ]
  },
  {
   "cell_type": "code",
   "execution_count": 637,
   "metadata": {},
   "outputs": [],
   "source": [
    "A = ['AGE', 'HEALTHCARE_COVERAGE', '2160-0', '2708-6', '2885-2', '4548-4', '8310-5', 'Acute respiratory failure (disorder)']"
   ]
  },
  {
   "cell_type": "code",
   "execution_count": 638,
   "metadata": {},
   "outputs": [],
   "source": [
    "X = df_features[['AGE', 'HEALTHCARE_COVERAGE', '2160-0', '2708-6', '2885-2', '4548-4', '8310-5', 'Acute respiratory failure (disorder)']].values"
   ]
  },
  {
   "cell_type": "code",
   "execution_count": 646,
   "metadata": {},
   "outputs": [
    {
     "data": {
      "text/plain": [
       "array([[1., 0.],\n",
       "       [1., 0.],\n",
       "       [1., 0.],\n",
       "       ...,\n",
       "       [1., 0.],\n",
       "       [1., 0.],\n",
       "       [1., 0.]])"
      ]
     },
     "execution_count": 646,
     "metadata": {},
     "output_type": "execute_result"
    }
   ],
   "source": [
    "loaded_icu_classification_model.predict_proba(X)"
   ]
  },
  {
   "cell_type": "code",
   "execution_count": 640,
   "metadata": {},
   "outputs": [
    {
     "data": {
      "text/plain": [
       "3.744282    6414\n",
       "5.940154       1\n",
       "5.945808       1\n",
       "2.582769       1\n",
       "dtype: int64"
      ]
     },
     "execution_count": 640,
     "metadata": {},
     "output_type": "execute_result"
    }
   ],
   "source": [
    "pd.Series(reg4.predict(X)).value_counts()"
   ]
  },
  {
   "cell_type": "markdown",
   "metadata": {},
   "source": [
    "# Conclusion"
   ]
  },
  {
   "cell_type": "markdown",
   "metadata": {},
   "source": [
    "Our icu screening model seems to think that no one will be admitted to the ICU.  From the train set, we see that ~6% of patients with Covid are admited.  For the purpose of submission, we will take the most likely covid patients and predict that they will be admitted to the ICU and assign a total days admitted equal to 3.74, which our model seems to predict most frequently.  The reason for such bad performance on this set is due to the lack of features available for modelling in the test set."
   ]
  },
  {
   "cell_type": "code",
   "execution_count": 680,
   "metadata": {},
   "outputs": [
    {
     "data": {
      "text/html": [
       "<div>\n",
       "<style scoped>\n",
       "    .dataframe tbody tr th:only-of-type {\n",
       "        vertical-align: middle;\n",
       "    }\n",
       "\n",
       "    .dataframe tbody tr th {\n",
       "        vertical-align: top;\n",
       "    }\n",
       "\n",
       "    .dataframe thead th {\n",
       "        text-align: right;\n",
       "    }\n",
       "</style>\n",
       "<table border=\"1\" class=\"dataframe\">\n",
       "  <thead>\n",
       "    <tr style=\"text-align: right;\">\n",
       "      <th></th>\n",
       "      <th>Id</th>\n",
       "    </tr>\n",
       "  </thead>\n",
       "  <tbody>\n",
       "    <tr>\n",
       "      <th>0</th>\n",
       "      <td>8c6f61a6-1beb-4b51-980e-381722ca7e33</td>\n",
       "    </tr>\n",
       "    <tr>\n",
       "      <th>1</th>\n",
       "      <td>6732e6fc-f8f3-4b1a-924a-47f68f19526c</td>\n",
       "    </tr>\n",
       "    <tr>\n",
       "      <th>2</th>\n",
       "      <td>4772a573-1fb1-49ec-be86-dc2c4b176052</td>\n",
       "    </tr>\n",
       "    <tr>\n",
       "      <th>3</th>\n",
       "      <td>edb75aa7-7b67-48ce-9990-0095cd7a3b8d</td>\n",
       "    </tr>\n",
       "    <tr>\n",
       "      <th>4</th>\n",
       "      <td>e28f36cd-c8d8-4c64-94e7-91c89d1be9d1</td>\n",
       "    </tr>\n",
       "    <tr>\n",
       "      <th>...</th>\n",
       "      <td>...</td>\n",
       "    </tr>\n",
       "    <tr>\n",
       "      <th>29487</th>\n",
       "      <td>92c45fac-4d7b-4f2c-beaa-c8a3478d5874</td>\n",
       "    </tr>\n",
       "    <tr>\n",
       "      <th>29488</th>\n",
       "      <td>3fbae55d-c18e-4c84-88fd-56357953cfea</td>\n",
       "    </tr>\n",
       "    <tr>\n",
       "      <th>29489</th>\n",
       "      <td>80c8ab65-5f76-40cf-bbfa-4c42807b21a2</td>\n",
       "    </tr>\n",
       "    <tr>\n",
       "      <th>29490</th>\n",
       "      <td>b2eb252e-fb3d-4f45-aeb7-dcfa5fa90057</td>\n",
       "    </tr>\n",
       "    <tr>\n",
       "      <th>29491</th>\n",
       "      <td>40f3b714-8f77-472a-8b26-eae6eca14106</td>\n",
       "    </tr>\n",
       "  </tbody>\n",
       "</table>\n",
       "<p>29492 rows × 1 columns</p>\n",
       "</div>"
      ],
      "text/plain": [
       "                                         Id\n",
       "0      8c6f61a6-1beb-4b51-980e-381722ca7e33\n",
       "1      6732e6fc-f8f3-4b1a-924a-47f68f19526c\n",
       "2      4772a573-1fb1-49ec-be86-dc2c4b176052\n",
       "3      edb75aa7-7b67-48ce-9990-0095cd7a3b8d\n",
       "4      e28f36cd-c8d8-4c64-94e7-91c89d1be9d1\n",
       "...                                     ...\n",
       "29487  92c45fac-4d7b-4f2c-beaa-c8a3478d5874\n",
       "29488  3fbae55d-c18e-4c84-88fd-56357953cfea\n",
       "29489  80c8ab65-5f76-40cf-bbfa-4c42807b21a2\n",
       "29490  b2eb252e-fb3d-4f45-aeb7-dcfa5fa90057\n",
       "29491  40f3b714-8f77-472a-8b26-eae6eca14106\n",
       "\n",
       "[29492 rows x 1 columns]"
      ]
     },
     "execution_count": 680,
     "metadata": {},
     "output_type": "execute_result"
    }
   ],
   "source": [
    "test_patient_ids = pd.DataFrame(ddf_patients['Id'].compute())\n",
    "test_patient_ids"
   ]
  },
  {
   "cell_type": "code",
   "execution_count": 681,
   "metadata": {},
   "outputs": [],
   "source": [
    "test_patient_ids['ICU_DAYS'] = (test_patient_ids['Id'].isin(covid_patients_ids))*3.74"
   ]
  },
  {
   "cell_type": "code",
   "execution_count": 684,
   "metadata": {},
   "outputs": [],
   "source": [
    "test_patient_ids.set_index('Id', inplace=True)"
   ]
  },
  {
   "cell_type": "code",
   "execution_count": 685,
   "metadata": {},
   "outputs": [
    {
     "data": {
      "text/html": [
       "<div>\n",
       "<style scoped>\n",
       "    .dataframe tbody tr th:only-of-type {\n",
       "        vertical-align: middle;\n",
       "    }\n",
       "\n",
       "    .dataframe tbody tr th {\n",
       "        vertical-align: top;\n",
       "    }\n",
       "\n",
       "    .dataframe thead th {\n",
       "        text-align: right;\n",
       "    }\n",
       "</style>\n",
       "<table border=\"1\" class=\"dataframe\">\n",
       "  <thead>\n",
       "    <tr style=\"text-align: right;\">\n",
       "      <th></th>\n",
       "      <th>ICU_DAYS</th>\n",
       "    </tr>\n",
       "    <tr>\n",
       "      <th>Id</th>\n",
       "      <th></th>\n",
       "    </tr>\n",
       "  </thead>\n",
       "  <tbody>\n",
       "    <tr>\n",
       "      <th>8c6f61a6-1beb-4b51-980e-381722ca7e33</th>\n",
       "      <td>0.00</td>\n",
       "    </tr>\n",
       "    <tr>\n",
       "      <th>6732e6fc-f8f3-4b1a-924a-47f68f19526c</th>\n",
       "      <td>0.00</td>\n",
       "    </tr>\n",
       "    <tr>\n",
       "      <th>4772a573-1fb1-49ec-be86-dc2c4b176052</th>\n",
       "      <td>0.00</td>\n",
       "    </tr>\n",
       "    <tr>\n",
       "      <th>edb75aa7-7b67-48ce-9990-0095cd7a3b8d</th>\n",
       "      <td>0.00</td>\n",
       "    </tr>\n",
       "    <tr>\n",
       "      <th>e28f36cd-c8d8-4c64-94e7-91c89d1be9d1</th>\n",
       "      <td>0.00</td>\n",
       "    </tr>\n",
       "    <tr>\n",
       "      <th>...</th>\n",
       "      <td>...</td>\n",
       "    </tr>\n",
       "    <tr>\n",
       "      <th>92c45fac-4d7b-4f2c-beaa-c8a3478d5874</th>\n",
       "      <td>0.00</td>\n",
       "    </tr>\n",
       "    <tr>\n",
       "      <th>3fbae55d-c18e-4c84-88fd-56357953cfea</th>\n",
       "      <td>0.00</td>\n",
       "    </tr>\n",
       "    <tr>\n",
       "      <th>80c8ab65-5f76-40cf-bbfa-4c42807b21a2</th>\n",
       "      <td>0.00</td>\n",
       "    </tr>\n",
       "    <tr>\n",
       "      <th>b2eb252e-fb3d-4f45-aeb7-dcfa5fa90057</th>\n",
       "      <td>0.00</td>\n",
       "    </tr>\n",
       "    <tr>\n",
       "      <th>40f3b714-8f77-472a-8b26-eae6eca14106</th>\n",
       "      <td>3.74</td>\n",
       "    </tr>\n",
       "  </tbody>\n",
       "</table>\n",
       "<p>29492 rows × 1 columns</p>\n",
       "</div>"
      ],
      "text/plain": [
       "                                      ICU_DAYS\n",
       "Id                                            \n",
       "8c6f61a6-1beb-4b51-980e-381722ca7e33      0.00\n",
       "6732e6fc-f8f3-4b1a-924a-47f68f19526c      0.00\n",
       "4772a573-1fb1-49ec-be86-dc2c4b176052      0.00\n",
       "edb75aa7-7b67-48ce-9990-0095cd7a3b8d      0.00\n",
       "e28f36cd-c8d8-4c64-94e7-91c89d1be9d1      0.00\n",
       "...                                        ...\n",
       "92c45fac-4d7b-4f2c-beaa-c8a3478d5874      0.00\n",
       "3fbae55d-c18e-4c84-88fd-56357953cfea      0.00\n",
       "80c8ab65-5f76-40cf-bbfa-4c42807b21a2      0.00\n",
       "b2eb252e-fb3d-4f45-aeb7-dcfa5fa90057      0.00\n",
       "40f3b714-8f77-472a-8b26-eae6eca14106      3.74\n",
       "\n",
       "[29492 rows x 1 columns]"
      ]
     },
     "execution_count": 685,
     "metadata": {},
     "output_type": "execute_result"
    }
   ],
   "source": [
    "test_patient_ids"
   ]
  },
  {
   "cell_type": "code",
   "execution_count": null,
   "metadata": {},
   "outputs": [],
   "source": [
    "with open(\"out.csv\", mode='w', newline='\\n') as f:\n",
    "    test_patient_ids.to_csv(f, sep=\",\", line_terminator='\\n', encoding='utf-8', header=False)"
   ]
  }
 ],
 "metadata": {
  "kernelspec": {
   "display_name": "Python 3",
   "language": "python",
   "name": "python3"
  },
  "language_info": {
   "codemirror_mode": {
    "name": "ipython",
    "version": 3
   },
   "file_extension": ".py",
   "mimetype": "text/x-python",
   "name": "python",
   "nbconvert_exporter": "python",
   "pygments_lexer": "ipython3",
   "version": "3.7.3"
  }
 },
 "nbformat": 4,
 "nbformat_minor": 4
}
