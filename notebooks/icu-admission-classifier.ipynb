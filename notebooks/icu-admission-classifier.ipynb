{
 "cells": [
  {
   "cell_type": "code",
   "execution_count": 60,
   "metadata": {},
   "outputs": [],
   "source": [
    "import dask.dataframe as dd\n",
    "import pandas as pd\n",
    "import numpy as np\n",
    "from matplotlib import pyplot as plt\n",
    "import seaborn as sns\n",
    "from scipy import stats\n",
    "from sklearn.model_selection import train_test_split\n",
    "from sklearn.tree import DecisionTreeClassifier\n",
    "from itertools import combinations\n",
    "from sklearn.feature_selection import SelectKBest, chi2\n",
    "from sklearn.feature_selection import mutual_info_regression\n",
    "from sklearn.model_selection import RandomizedSearchCV\n",
    "from sklearn.metrics import f1_score\n",
    "from sklearn.metrics import matthews_corrcoef\n",
    "import pickle"
   ]
  },
  {
   "cell_type": "code",
   "execution_count": 107,
   "metadata": {},
   "outputs": [],
   "source": [
    "ddf_patients = dd.read_csv('../data/raw/train/patients.csv')\n",
    "ddf_procedures = dd.read_csv('../data/raw/train/procedures.csv')\n",
    "ddf_conditions = dd.read_csv('../data/raw/train/conditions.csv')\n",
    "ddf_encounters = dd.read_csv('../data/raw/train/encounters.csv')\n",
    "ddf_careplans = dd.read_csv('../data/raw/train/careplans.csv')\n",
    "ddf_observations = dd.read_csv('../data/raw/train/observations.csv', dtype=str)\n",
    "ddf_alergies = dd.read_csv('../data/raw/train/observations.csv')"
   ]
  },
  {
   "cell_type": "code",
   "execution_count": 108,
   "metadata": {},
   "outputs": [
    {
     "data": {
      "text/html": [
       "<div>\n",
       "<style scoped>\n",
       "    .dataframe tbody tr th:only-of-type {\n",
       "        vertical-align: middle;\n",
       "    }\n",
       "\n",
       "    .dataframe tbody tr th {\n",
       "        vertical-align: top;\n",
       "    }\n",
       "\n",
       "    .dataframe thead th {\n",
       "        text-align: right;\n",
       "    }\n",
       "</style>\n",
       "<table border=\"1\" class=\"dataframe\">\n",
       "  <thead>\n",
       "    <tr style=\"text-align: right;\">\n",
       "      <th></th>\n",
       "      <th>Target</th>\n",
       "    </tr>\n",
       "    <tr>\n",
       "      <th>PATIENT</th>\n",
       "      <th></th>\n",
       "    </tr>\n",
       "  </thead>\n",
       "  <tbody>\n",
       "    <tr>\n",
       "      <th>afa2680f-7f73-46d9-b0cd-2cf3db49724b</th>\n",
       "      <td>0</td>\n",
       "    </tr>\n",
       "    <tr>\n",
       "      <th>26e5d262-6cdc-4274-a5cd-d7fd439e35f9</th>\n",
       "      <td>0</td>\n",
       "    </tr>\n",
       "    <tr>\n",
       "      <th>90031c21-e8a4-416e-b60b-23e871ee62dc</th>\n",
       "      <td>0</td>\n",
       "    </tr>\n",
       "    <tr>\n",
       "      <th>0ac2e031-ab88-41f9-ac5d-d7d588952222</th>\n",
       "      <td>0</td>\n",
       "    </tr>\n",
       "    <tr>\n",
       "      <th>45138fb4-dc79-4aec-ba78-7a012d3edca7</th>\n",
       "      <td>0</td>\n",
       "    </tr>\n",
       "    <tr>\n",
       "      <th>...</th>\n",
       "      <td>...</td>\n",
       "    </tr>\n",
       "    <tr>\n",
       "      <th>43d96255-e3ab-43af-97e6-494681105115</th>\n",
       "      <td>0</td>\n",
       "    </tr>\n",
       "    <tr>\n",
       "      <th>12f7b700-0f7a-4e09-8adf-7d7f9c0c2fb0</th>\n",
       "      <td>0</td>\n",
       "    </tr>\n",
       "    <tr>\n",
       "      <th>8722685f-ce37-4520-ab95-22b6929526c2</th>\n",
       "      <td>1</td>\n",
       "    </tr>\n",
       "    <tr>\n",
       "      <th>62e3e406-8375-4cf5-aae7-0d489e40e73c</th>\n",
       "      <td>0</td>\n",
       "    </tr>\n",
       "    <tr>\n",
       "      <th>18b4b304-dddd-41e8-a13d-08a3285552be</th>\n",
       "      <td>0</td>\n",
       "    </tr>\n",
       "  </tbody>\n",
       "</table>\n",
       "<p>73697 rows × 1 columns</p>\n",
       "</div>"
      ],
      "text/plain": [
       "                                      Target\n",
       "PATIENT                                     \n",
       "afa2680f-7f73-46d9-b0cd-2cf3db49724b       0\n",
       "26e5d262-6cdc-4274-a5cd-d7fd439e35f9       0\n",
       "90031c21-e8a4-416e-b60b-23e871ee62dc       0\n",
       "0ac2e031-ab88-41f9-ac5d-d7d588952222       0\n",
       "45138fb4-dc79-4aec-ba78-7a012d3edca7       0\n",
       "...                                      ...\n",
       "43d96255-e3ab-43af-97e6-494681105115       0\n",
       "12f7b700-0f7a-4e09-8adf-7d7f9c0c2fb0       0\n",
       "8722685f-ce37-4520-ab95-22b6929526c2       1\n",
       "62e3e406-8375-4cf5-aae7-0d489e40e73c       0\n",
       "18b4b304-dddd-41e8-a13d-08a3285552be       0\n",
       "\n",
       "[73697 rows x 1 columns]"
      ]
     },
     "execution_count": 108,
     "metadata": {},
     "output_type": "execute_result"
    }
   ],
   "source": [
    "covid_patients_ids = ddf_conditions[ddf_conditions.CODE == 840539006].PATIENT.unique().compute()\n",
    "\n",
    "icu_ids = ddf_encounters[\n",
    "    (ddf_encounters.CODE == 305351004) & \n",
    "    (ddf_encounters.PATIENT.isin(covid_patients_ids))].PATIENT.compute()\n",
    "\n",
    "icu_target = pd.DataFrame(covid_patients_ids.isin(icu_ids).values.astype(int), index=covid_patients_ids)\n",
    "icu_target.columns=['Target']\n",
    "icu_target"
   ]
  },
  {
   "cell_type": "code",
   "execution_count": 109,
   "metadata": {},
   "outputs": [],
   "source": [
    "def numeric_like(x):\n",
    "    try:\n",
    "        float(x)\n",
    "        return True\n",
    "    except:\n",
    "        return False"
   ]
  },
  {
   "cell_type": "markdown",
   "metadata": {},
   "source": [
    "# Create Condition Features"
   ]
  },
  {
   "cell_type": "code",
   "execution_count": 110,
   "metadata": {},
   "outputs": [],
   "source": [
    "conditions_subset = [65710008, 69896004, 195967001]\n",
    "covid_patient_conditions = ddf_conditions[ddf_conditions.PATIENT.isin(covid_patients_ids)]\n",
    "condition_dictionary = {code: covid_patient_conditions[covid_patient_conditions['CODE']==code]['PATIENT'].unique().compute() for code in conditions_subset}\n",
    "condition_description = pd.DataFrame(ddf_conditions['DESCRIPTION'].values.compute(), index=ddf_conditions['CODE'].values.compute()).to_dict()[0]"
   ]
  },
  {
   "cell_type": "code",
   "execution_count": 140,
   "metadata": {},
   "outputs": [
    {
     "data": {
      "text/plain": [
       "'Asthma'"
      ]
     },
     "execution_count": 140,
     "metadata": {},
     "output_type": "execute_result"
    }
   ],
   "source": [
    "condition_description[195967001]"
   ]
  },
  {
   "cell_type": "code",
   "execution_count": 111,
   "metadata": {},
   "outputs": [],
   "source": [
    "def create_feature_dictionary(ddf, patient_subset, column, value_subset):\n",
    "    patient_feature = ddf[ddf.PATIENT.isin(patient_subset)]\n",
    "    patient_feature_dictionary = {code: patient_feature[patient_feature[column]==value]['PATIENT'].unique().compute() for value in value_subset}\n",
    "    return patient_feature_dictionary\n",
    "\n",
    "def create_binary_feature(ddf, patient_feature_dictionary, value):\n",
    "    temp1 = patient_feature_dictionary[value]\n",
    "    temp2 = ddf[~ddf.PATIENT.isin(patient_feature_dictionary[value].values)].PATIENT.unique().compute()\n",
    "    df1 = pd.DataFrame(np.ones(len(temp1)).astype(int), index=temp1)\n",
    "    df2 = pd.DataFrame(np.zeros(len(temp2)).astype(int), index=temp2)\n",
    "    df = pd.concat([df1, df2])\n",
    "    df.columns = [condition_description[condition]]\n",
    "    return df"
   ]
  },
  {
   "cell_type": "code",
   "execution_count": 112,
   "metadata": {},
   "outputs": [],
   "source": [
    "df_features = create_condition_feature_table(conditions_subset)\n",
    "for x in combinations(range(8), 2):\n",
    "    df_features[f'comorbidity_{x}'] = df_features.iloc[:, x[0]]*df_features.iloc[:, x[1]]"
   ]
  },
  {
   "cell_type": "markdown",
   "metadata": {},
   "source": [
    "# Create Procedure Features"
   ]
  },
  {
   "cell_type": "code",
   "execution_count": 113,
   "metadata": {},
   "outputs": [],
   "source": [
    "df = ddf_procedures[['PATIENT', 'CODE']].compute()"
   ]
  },
  {
   "cell_type": "code",
   "execution_count": 114,
   "metadata": {},
   "outputs": [],
   "source": [
    "codes = df['CODE'].value_counts()[df['CODE'].value_counts()>1000].index"
   ]
  },
  {
   "cell_type": "code",
   "execution_count": 115,
   "metadata": {},
   "outputs": [],
   "source": [
    "df['Value'] = 1"
   ]
  },
  {
   "cell_type": "code",
   "execution_count": 116,
   "metadata": {},
   "outputs": [],
   "source": [
    "df = df[df['CODE'].isin(codes)].pivot_table(index='PATIENT', columns='CODE', values='Value', aggfunc='mean').fillna(0)"
   ]
  },
  {
   "cell_type": "code",
   "execution_count": 117,
   "metadata": {},
   "outputs": [],
   "source": [
    "df = df[df.index.isin(covid_patients_ids)]"
   ]
  },
  {
   "cell_type": "code",
   "execution_count": 118,
   "metadata": {},
   "outputs": [],
   "source": [
    "df_features = pd.merge(df, df_features, left_index=True, right_index=True)"
   ]
  },
  {
   "cell_type": "markdown",
   "metadata": {},
   "source": [
    "# Create Observation Features"
   ]
  },
  {
   "cell_type": "code",
   "execution_count": 119,
   "metadata": {},
   "outputs": [],
   "source": [
    "df = ddf_observations[['PATIENT', 'CODE', 'VALUE']].compute()\n",
    "df = df[df['PATIENT'].isin(covid_patients_ids)]\n",
    "df = df[df['VALUE'].map(numeric_like)]\n",
    "feature_codes = ['14804-9', '1960-4', '1988-5', '19994-3', '2019-8', '2157-6',\n",
    "       '2160-0', '2276-4', '2703-7', '2708-6', '2744-1', '2885-2',\n",
    "       '33959-8', '4548-4', '48065-7', '5902-2', '6301-6', '704-7',\n",
    "       '711-2', '731-0', '8310-5', '89579-7']\n",
    "df = df[df['CODE'].isin(feature_codes)]\n",
    "df['VALUE'] = df['VALUE'].astype(float)\n",
    "df = df.pivot_table(index='PATIENT', columns='CODE', values='VALUE', aggfunc='mean').fillna(0)"
   ]
  },
  {
   "cell_type": "code",
   "execution_count": 120,
   "metadata": {},
   "outputs": [],
   "source": [
    "df_features = pd.merge(df, df_features, left_index=True, right_index=True)"
   ]
  },
  {
   "cell_type": "markdown",
   "metadata": {},
   "source": [
    "# Create Demographic Features"
   ]
  },
  {
   "cell_type": "code",
   "execution_count": 121,
   "metadata": {},
   "outputs": [],
   "source": [
    "temp = (np.datetime64('NOW') - ddf_patients['BIRTHDATE'].astype('M8[D]').compute()).astype('timedelta64[Y]').astype(float)\n",
    "df_age = pd.DataFrame(temp.values, index = ddf_patients.compute().Id)\n",
    "df_age.columns = ['AGE']"
   ]
  },
  {
   "cell_type": "code",
   "execution_count": 122,
   "metadata": {},
   "outputs": [],
   "source": [
    "df = ddf_patients[ddf_patients['Id'].isin(covid_patients_ids)][['Id', 'GENDER', 'HEALTHCARE_COVERAGE']].compute()"
   ]
  },
  {
   "cell_type": "code",
   "execution_count": 123,
   "metadata": {},
   "outputs": [],
   "source": [
    "df['GENDER'] = df['GENDER'].map(lambda x: int(x=='M'))\n",
    "df.index = df['Id']"
   ]
  },
  {
   "cell_type": "code",
   "execution_count": 124,
   "metadata": {},
   "outputs": [],
   "source": [
    "df_features = pd.merge(df.iloc[:, 1:], df_features, left_index=True, right_index=True)"
   ]
  },
  {
   "cell_type": "code",
   "execution_count": 125,
   "metadata": {},
   "outputs": [],
   "source": [
    "df_features = pd.merge(df_age, df_features, left_index=True, right_index=True)"
   ]
  },
  {
   "cell_type": "code",
   "execution_count": 149,
   "metadata": {},
   "outputs": [],
   "source": [
    "df_training_table = pd.merge(df_features, icu_target, how='outer', left_index=True, right_index=True).fillna(0)"
   ]
  },
  {
   "cell_type": "code",
   "execution_count": 151,
   "metadata": {},
   "outputs": [],
   "source": [
    "df_training_table = df_training_table[['AGE',\n",
    " 'HEALTHCARE_COVERAGE',\n",
    " '2160-0',\n",
    " '2708-6',\n",
    " '2885-2',\n",
    " '4548-4',\n",
    " '8310-5',\n",
    " 'Acute respiratory failure (disorder)', 'Target']]"
   ]
  },
  {
   "cell_type": "markdown",
   "metadata": {},
   "source": [
    "# Modelling"
   ]
  },
  {
   "cell_type": "code",
   "execution_count": 174,
   "metadata": {},
   "outputs": [
    {
     "name": "stdout",
     "output_type": "stream",
     "text": [
      "0.9515603799185889\n",
      "0.6063947078280044\n",
      "0.5870232407622129\n"
     ]
    }
   ],
   "source": [
    "X = df_training_table.iloc[:, :-1].values\n",
    "y = df_training_table.iloc[:, -1].values\n",
    "\n",
    "X_train, X_test, y_train, y_test = train_test_split(X, y, test_size=0.1, random_state=13)\n",
    "\n",
    "reg = DecisionTreeClassifier(min_samples_split=2, min_samples_leaf=10, max_depth=5).fit(X_train, y_train)\n",
    "print(reg.score(X_test, y_test))\n",
    "print(f1_score(reg.predict(X_test), y_test))\n",
    "print(matthews_corrcoef(reg.predict(X_test), y_test))"
   ]
  },
  {
   "cell_type": "code",
   "execution_count": 175,
   "metadata": {},
   "outputs": [],
   "source": [
    "filename = 'finalized_icu_classification_model.sav'\n",
    "pickle.dump(reg, open(filename, 'wb'))"
   ]
  },
  {
   "cell_type": "code",
   "execution_count": 157,
   "metadata": {},
   "outputs": [
    {
     "data": {
      "text/plain": [
       "4981"
      ]
     },
     "execution_count": 157,
     "metadata": {},
     "output_type": "execute_result"
    }
   ],
   "source": []
  },
  {
   "cell_type": "code",
   "execution_count": 176,
   "metadata": {},
   "outputs": [
    {
     "data": {
      "text/plain": [
       "4981"
      ]
     },
     "execution_count": 176,
     "metadata": {},
     "output_type": "execute_result"
    }
   ],
   "source": [
    "len(icu_ids)"
   ]
  },
  {
   "cell_type": "code",
   "execution_count": 178,
   "metadata": {},
   "outputs": [
    {
     "data": {
      "text/plain": [
       "0.06758755444590689"
      ]
     },
     "execution_count": 178,
     "metadata": {},
     "output_type": "execute_result"
    }
   ],
   "source": [
    "len(icu_ids)/len(covid_patients_ids)"
   ]
  },
  {
   "cell_type": "code",
   "execution_count": null,
   "metadata": {},
   "outputs": [],
   "source": []
  }
 ],
 "metadata": {
  "kernelspec": {
   "display_name": "Python 3",
   "language": "python",
   "name": "python3"
  },
  "language_info": {
   "codemirror_mode": {
    "name": "ipython",
    "version": 3
   },
   "file_extension": ".py",
   "mimetype": "text/x-python",
   "name": "python",
   "nbconvert_exporter": "python",
   "pygments_lexer": "ipython3",
   "version": "3.7.3"
  }
 },
 "nbformat": 4,
 "nbformat_minor": 4
}
