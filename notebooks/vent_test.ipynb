{
 "cells": [
  {
   "cell_type": "code",
   "execution_count": 53,
   "metadata": {},
   "outputs": [],
   "source": [
    "import dask as da\n",
    "import pandas as pd\n",
    "import seaborn as sns\n",
    "import matplotlib.pyplot as plt\n",
    "import numpy as np\n",
    "import os\n",
    "#import shap\n",
    "\n",
    "import dask.dataframe as dd\n",
    "\n",
    "# Use generator function\n",
    "path = '../test'\n",
    "g = (file for file in os.listdir(path) if 'csv' in file)\n",
    "\n",
    "#read data into a dictionary\n",
    "dataset = dict()\n",
    "\n",
    "for file in g:\n",
    "    file_name = file[:-4]\n",
    "    if ('condit' in file) or ( 'device' in file ) or ('medi' in file) or ('encount' in file) or ('aller' in file):\n",
    "        dataset[file_name] = dd.read_csv('../test/'+file,parse_dates=['START','STOP'])\n",
    "    elif ('patien' in file):\n",
    "        dataset[file_name] = dd.read_csv('../test/'+file,parse_dates=['BIRTHDATE','DEATHDATE'])\n",
    "    elif ('proce' in file) or ('imaging' in file):\n",
    "        dataset[file_name] = dd.read_csv('../test/'+file,parse_dates=['DATE'])\n",
    "    elif('days' in file):\n",
    "        dataset[file_name] = dd.read_csv('../test/'+file,names = ['Id','PRED_NUM_DAYS_ICU'],header = 0)\n",
    "    else:\n",
    "        dataset[file_name] = dd.read_csv('../test/'+file)\n",
    "    # print(file_name)\n",
    "    \n",
    "    \n",
    "class Dataset(object):\n",
    "    \"\"\"\n",
    "    Turns dataset dictionary into a class\n",
    "    \"\"\"\n",
    "    \n",
    "    def __init__(self, data_dict):\n",
    "        self.data_dict = data_dict\n",
    "        \"\"\"Constructor\"\"\"\n",
    "        for key in data_dict:\n",
    "            setattr(self, key, data_dict[key])\n",
    "            \n",
    "        \n",
    "    def add(self,data_key,data_to_add):\n",
    "        \"\"\"Method to add data\"\"\"\n",
    "        self.data_dict.update({data_key: data_to_add})\n",
    "        \n",
    "            \n",
    "test = Dataset(dataset)"
   ]
  },
  {
   "cell_type": "code",
   "execution_count": 55,
   "metadata": {},
   "outputs": [],
   "source": [
    "medications = test.medications[(test.medications.STOP.dt.year == 2020)\n",
    "                               |(test.medications.STOP.isna())\n",
    "                               |(test.medications.STOP.dt.year == 2019)]\n",
    "\n",
    "patients = test.patients[(test.patients.DEATHDATE.dt.year == 2020)\n",
    "                         | (test.patients.DEATHDATE.isna())]\n",
    "\n",
    "patients = patients[['Id','BIRTHDATE','DEATHDATE','MARITAL','RACE','ETHNICITY','GENDER','HEALTHCARE_EXPENSES','HEALTHCARE_COVERAGE']].compute()\n",
    "# Compute the age of given patient\n",
    "patients['AGE'] = (np.datetime64('NOW') - patients['BIRTHDATE'].astype('M8[D]')).astype('timedelta64[Y]').astype(float)\n",
    "# Patients = dd.from_pandas(patients,npartitions=1)\n",
    "patients = patients.drop(columns = ['DEATHDATE','ETHNICITY','BIRTHDATE'])\n",
    "covid_stat = pd.read_csv('../test/covid_status_pred_ke.csv')"
   ]
  },
  {
   "cell_type": "code",
   "execution_count": 56,
   "metadata": {},
   "outputs": [],
   "source": [
    "#Threshold the covid probability\n",
    "pos_covid_id = covid_stat[covid_stat['predicted_proba']>0.7]['Id']\n",
    "neg_covid_id = covid_stat[covid_stat['predicted_proba']<0.7]['Id']\n",
    "patients['COVID_STAT'] = 0\n",
    "patients.loc[patients['Id'].isin(pos_covid_id),'COVID_STAT'] = 1\n",
    "patients.loc[patients['Id'].isin(neg_covid_id),'COVID_STAT'] = -1\n"
   ]
  },
  {
   "cell_type": "code",
   "execution_count": 57,
   "metadata": {},
   "outputs": [],
   "source": [
    "#Hypertension\n",
    "\n",
    "medications = test.medications[(test.medications.STOP.dt.year == 2020)\n",
    "                               |(test.medications.STOP.isna())\n",
    "                               |(test.medications.STOP.dt.year == 2019)]\n",
    "\n",
    "hypertension_id = medications[['PATIENT','REASONDESCRIPTION']]\n",
    "hypertension_id = hypertension_id[hypertension_id['REASONDESCRIPTION']=='Hypertension'].compute()\n",
    "hypertension_id = hypertension_id['PATIENT'].unique()\n",
    "\n",
    "patients['HYPERTENSION'] = 0\n",
    "patients.loc[patients['Id'].isin(hypertension_id),'HYPERTENSION'] = 1"
   ]
  },
  {
   "cell_type": "code",
   "execution_count": 58,
   "metadata": {},
   "outputs": [],
   "source": [
    "# Diabetes\n",
    "conditions = test.conditions[((test.conditions['STOP'].dt.year==2020)\n",
    "\t\t\t\t| (test.conditions['STOP'].isna()))]\n",
    "temp = conditions[['PATIENT','DESCRIPTION']].compute()\n",
    "obesity_id = temp[temp['DESCRIPTION']=='Body mass index 30+ - obesity (finding)'].PATIENT\n",
    "prediabetes_id = temp[temp['DESCRIPTION']=='Prediabetes'].PATIENT\n",
    "\n",
    "patients['OBESITY'] = 0\n",
    "patients.loc[patients['Id'].isin(obesity_id),'OBESITY'] = 1\n",
    "patients['MARITAL']=patients['MARITAL'].fillna('S')"
   ]
  },
  {
   "cell_type": "code",
   "execution_count": 67,
   "metadata": {},
   "outputs": [],
   "source": [
    "days_in_icu = pd.read_csv('../test/days_in_icu.csv',names = ['Id','PRED_NUM_DAYS_ICU'])\n",
    "patients = pd.merge(patients,days_in_icu,\n",
    "                   how = 'left',\n",
    "                   on = 'Id')"
   ]
  },
  {
   "cell_type": "code",
   "execution_count": 60,
   "metadata": {},
   "outputs": [],
   "source": [
    "import pickle\n",
    "filename='../train/rfc.model'\n",
    "models = pickle.load(open(filename, 'rb'))\n"
   ]
  },
  {
   "cell_type": "code",
   "execution_count": 61,
   "metadata": {},
   "outputs": [],
   "source": [
    "rf = models['Classifier']\n",
    "[le_m,le_s,le_r] = models['Encoders']"
   ]
  },
  {
   "cell_type": "code",
   "execution_count": 71,
   "metadata": {},
   "outputs": [],
   "source": [
    "patients['MARITAL_L']=le_m.transform(patients['MARITAL'])\n",
    "patients['RACE_L']=le_r.transform(patients['RACE'])\n",
    "patients['GENDER_L']=le_s.transform(patients['GENDER'])\n",
    "X = patients[['HEALTHCARE_EXPENSES','HEALTHCARE_COVERAGE','AGE','RACE_L','COVID_STAT','PRED_NUM_DAYS_ICU','HYPERTENSION','GENDER_L','MARITAL_L','OBESITY']]\n",
    "patients['VENT'] = rf.predict_proba(X)[:,1]"
   ]
  },
  {
   "cell_type": "code",
   "execution_count": 82,
   "metadata": {},
   "outputs": [],
   "source": [
    "# Now we can make predictions\n",
    "pred_out = patients[['Id','VENT']]\n",
    "pred_out = pd.merge(pred_out,patient_id,\n",
    "                   how = 'right',\n",
    "                   on = 'Id').fillna(0)\n",
    "out = pred_out.set_index('Id')\n",
    "pred_out.to_csv('../ventilation_status.csv',header=False,index = False)"
   ]
  }
 ],
 "metadata": {
  "kernelspec": {
   "display_name": "Python 3",
   "language": "python",
   "name": "python3"
  },
  "language_info": {
   "codemirror_mode": {
    "name": "ipython",
    "version": 3
   },
   "file_extension": ".py",
   "mimetype": "text/x-python",
   "name": "python",
   "nbconvert_exporter": "python",
   "pygments_lexer": "ipython3",
   "version": "3.7.6"
  }
 },
 "nbformat": 4,
 "nbformat_minor": 4
}
