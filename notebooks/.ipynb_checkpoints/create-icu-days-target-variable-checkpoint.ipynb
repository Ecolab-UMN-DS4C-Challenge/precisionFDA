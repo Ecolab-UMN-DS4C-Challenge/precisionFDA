{
 "cells": [
  {
   "cell_type": "code",
   "execution_count": 1,
   "metadata": {},
   "outputs": [],
   "source": [
    "import dask.dataframe as dd\n",
    "import pandas as pd\n",
    "import numpy as np\n",
    "from matplotlib import pyplot as plt\n",
    "import seaborn as sns"
   ]
  },
  {
   "cell_type": "code",
   "execution_count": 2,
   "metadata": {},
   "outputs": [],
   "source": [
    "ddf_patients = dd.read_csv('../data/raw/train/patients.csv')\n",
    "ddf_procedures = dd.read_csv('../data/raw/train/procedures.csv')\n",
    "ddf_conditions = dd.read_csv('../data/raw/train/conditions.csv')\n",
    "ddf_encounters = dd.read_csv('../data/raw/train/encounters.csv')"
   ]
  },
  {
   "cell_type": "code",
   "execution_count": 3,
   "metadata": {},
   "outputs": [],
   "source": [
    "covid_patients_ids = ddf_conditions[ddf_conditions.CODE == 840539006].PATIENT.unique().compute()"
   ]
  },
  {
   "cell_type": "code",
   "execution_count": 4,
   "metadata": {},
   "outputs": [],
   "source": [
    "vent_ids = ddf_procedures[(ddf_procedures.CODE == 26763009) & (ddf_procedures.PATIENT.isin(covid_patients_ids))].PATIENT.compute()\n",
    "icu_ids = ddf_encounters[(ddf_encounters.CODE == 305351004) & (ddf_encounters.PATIENT.isin(covid_patients_ids))].PATIENT.compute()"
   ]
  },
  {
   "cell_type": "code",
   "execution_count": 6,
   "metadata": {},
   "outputs": [
    {
     "data": {
      "text/html": [
       "<div>\n",
       "<style scoped>\n",
       "    .dataframe tbody tr th:only-of-type {\n",
       "        vertical-align: middle;\n",
       "    }\n",
       "\n",
       "    .dataframe tbody tr th {\n",
       "        vertical-align: top;\n",
       "    }\n",
       "\n",
       "    .dataframe thead th {\n",
       "        text-align: right;\n",
       "    }\n",
       "</style>\n",
       "<table border=\"1\" class=\"dataframe\">\n",
       "  <thead>\n",
       "    <tr style=\"text-align: right;\">\n",
       "      <th></th>\n",
       "      <th>DAYS_IN_ICU</th>\n",
       "    </tr>\n",
       "  </thead>\n",
       "  <tbody>\n",
       "    <tr>\n",
       "      <th>2fb4a4e7-dd61-43b6-b1be-36ed7bff5541</th>\n",
       "      <td>1</td>\n",
       "    </tr>\n",
       "    <tr>\n",
       "      <th>c32ec663-b210-48a3-a14a-90c53f063d49</th>\n",
       "      <td>1</td>\n",
       "    </tr>\n",
       "    <tr>\n",
       "      <th>c221e1c0-e6e7-490e-b7d5-d0ad1df4cbe2</th>\n",
       "      <td>1</td>\n",
       "    </tr>\n",
       "    <tr>\n",
       "      <th>cac26a5f-dd9a-4594-8106-151c487cb6d9</th>\n",
       "      <td>1</td>\n",
       "    </tr>\n",
       "    <tr>\n",
       "      <th>a32c3240-911e-437c-9498-0f17583601aa</th>\n",
       "      <td>1</td>\n",
       "    </tr>\n",
       "    <tr>\n",
       "      <th>...</th>\n",
       "      <td>...</td>\n",
       "    </tr>\n",
       "    <tr>\n",
       "      <th>3663bc4a-01a0-4e53-8e7b-9ce448d7b87e</th>\n",
       "      <td>1</td>\n",
       "    </tr>\n",
       "    <tr>\n",
       "      <th>808584fe-17f3-42fd-960a-0423d3eaa90a</th>\n",
       "      <td>1</td>\n",
       "    </tr>\n",
       "    <tr>\n",
       "      <th>516b94c3-f638-4227-a53f-1ba310ba58e7</th>\n",
       "      <td>1</td>\n",
       "    </tr>\n",
       "    <tr>\n",
       "      <th>989daf35-1685-4aad-a6f1-80070905d247</th>\n",
       "      <td>1</td>\n",
       "    </tr>\n",
       "    <tr>\n",
       "      <th>d3c0e7f6-d44b-4a0f-bf07-ae37d45a39fd</th>\n",
       "      <td>1</td>\n",
       "    </tr>\n",
       "  </tbody>\n",
       "</table>\n",
       "<p>4981 rows × 1 columns</p>\n",
       "</div>"
      ],
      "text/plain": [
       "                                      DAYS_IN_ICU\n",
       "2fb4a4e7-dd61-43b6-b1be-36ed7bff5541            1\n",
       "c32ec663-b210-48a3-a14a-90c53f063d49            1\n",
       "c221e1c0-e6e7-490e-b7d5-d0ad1df4cbe2            1\n",
       "cac26a5f-dd9a-4594-8106-151c487cb6d9            1\n",
       "a32c3240-911e-437c-9498-0f17583601aa            1\n",
       "...                                           ...\n",
       "3663bc4a-01a0-4e53-8e7b-9ce448d7b87e            1\n",
       "808584fe-17f3-42fd-960a-0423d3eaa90a            1\n",
       "516b94c3-f638-4227-a53f-1ba310ba58e7            1\n",
       "989daf35-1685-4aad-a6f1-80070905d247            1\n",
       "d3c0e7f6-d44b-4a0f-bf07-ae37d45a39fd            1\n",
       "\n",
       "[4981 rows x 1 columns]"
      ]
     },
     "execution_count": 6,
     "metadata": {},
     "output_type": "execute_result"
    }
   ],
   "source": [
    "df_icu_ids = pd.DataFrame(icu_ids.value_counts())\n",
    "df_icu_ids.columns = ['DAYS_IN_ICU']\n",
    "df_icu_ids"
   ]
  },
  {
   "cell_type": "code",
   "execution_count": 16,
   "metadata": {},
   "outputs": [
    {
     "data": {
      "text/plain": [
       "296     7 days 03:05:00\n",
       "1920    9 days 09:35:00\n",
       "2918    7 days 03:38:00\n",
       "3041    5 days 19:29:00\n",
       "3607    7 days 22:36:00\n",
       "              ...      \n",
       "16762   6 days 16:40:00\n",
       "17089   5 days 22:32:00\n",
       "20491   4 days 04:20:00\n",
       "21156   9 days 21:44:00\n",
       "21413   3 days 05:54:00\n",
       "Length: 4981, dtype: timedelta64[ns]"
      ]
     },
     "execution_count": 16,
     "metadata": {},
     "output_type": "execute_result"
    }
   ],
   "source": [
    "ddf_icu_encounters = ddf_encounters[(ddf_encounters.CODE == 305351004) & (ddf_encounters.PATIENT.isin(covid_patients_ids))]\n",
    "(ddf_icu_encounters['STOP'].astype('M8[m]') - ddf_icu_encounters['START'].astype('M8[m]')).compute()"
   ]
  },
  {
   "cell_type": "code",
   "execution_count": 63,
   "metadata": {},
   "outputs": [],
   "source": [
    "non_icu_ids = ddf_patients[-ddf_patients['Id'].isin(icu_ids.unique())].Id.values.compute()\n",
    "df_non_icu_ids = pd.DataFrame(np.zeros(len(non_icu_ids)), index=non_icu_ids, columns=['DAYS_ICU'])"
   ]
  },
  {
   "cell_type": "code",
   "execution_count": 18,
   "metadata": {},
   "outputs": [
    {
     "data": {
      "text/plain": [
       "numpy.timedelta64(108,'s')"
      ]
     },
     "execution_count": 18,
     "metadata": {},
     "output_type": "execute_result"
    }
   ],
   "source": [
    "np.datetime64(\"NOW\") - np.datetime64('2020-06-23T16:14:48')"
   ]
  },
  {
   "cell_type": "markdown",
   "metadata": {},
   "source": [
    "# Exploration of Ventilation Status by Date"
   ]
  },
  {
   "cell_type": "code",
   "execution_count": 71,
   "metadata": {},
   "outputs": [],
   "source": [
    "vent_ids_by_date = ddf_procedures[(ddf_procedures.CODE == 26763009) & (ddf_procedures.PATIENT.isin(covid_patients_ids))].DATE.compute()"
   ]
  },
  {
   "cell_type": "code",
   "execution_count": 83,
   "metadata": {},
   "outputs": [
    {
     "data": {
      "image/png": "[encoded data removed]",
      "text/plain": [
       "<Figure size 720x360 with 1 Axes>"
      ]
     },
     "metadata": {
      "needs_background": "light"
     },
     "output_type": "display_data"
    }
   ],
   "source": [
    "data = vent_ids_by_date.value_counts()\n",
    "plt.figure(figsize=(10,5))\n",
    "plt.scatter(data.index.values.astype('M8[D]'), data, linewidths=0.2)\n",
    "plt.show()"
   ]
  },
  {
   "cell_type": "code",
   "execution_count": null,
   "metadata": {},
   "outputs": [],
   "source": []
  }
 ],
 "metadata": {
  "kernelspec": {
   "display_name": "Python 3",
   "language": "python",
   "name": "python3"
  },
  "language_info": {
   "codemirror_mode": {
    "name": "ipython",
    "version": 3
   },
   "file_extension": ".py",
   "mimetype": "text/x-python",
   "name": "python",
   "nbconvert_exporter": "python",
   "pygments_lexer": "ipython3",
   "version": "3.7.3"
  }
 },
 "nbformat": 4,
 "nbformat_minor": 4
}
