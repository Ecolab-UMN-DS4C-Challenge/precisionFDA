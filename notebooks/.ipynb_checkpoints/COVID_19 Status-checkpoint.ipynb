{
 "cells": [
  {
   "cell_type": "code",
   "execution_count": 1,
   "metadata": {
    "_cell_guid": "b1076dfc-b9ad-4769-8c92-a6c4dae69d19",
    "_uuid": "8f2839f25d086af736a60e9eeb907d3b93b6e0e5"
   },
   "outputs": [],
   "source": [
    "import numpy as np # linear algebra\n",
    "import pandas as pd # data processing, CSV file I/O (e.g. pd.read_csv)\n",
    "from sklearn.datasets import load_digits\n",
    "%matplotlib inline\n",
    "import matplotlib.pyplot as plt\n",
    "from sklearn.model_selection import train_test_split\n",
    "from sklearn.ensemble import RandomForestClassifier\n",
    "from sklearn.metrics import confusion_matrix\n",
    "import seaborn as sn\n",
    "from datetime import datetime\n",
    "from sklearn.utils import resample\n",
    "from sklearn.model_selection import RandomizedSearchCV\n",
    "from sklearn.metrics import accuracy_score"
   ]
  },
  {
   "cell_type": "code",
   "execution_count": null,
   "metadata": {
    "_cell_guid": "79c7e3d0-c299-4dcb-8224-4455121ee9b0",
    "_uuid": "d629ff2d2480ee46fbb7e2d37f6b5fab8052498a"
   },
   "outputs": [],
   "source": [
    "# read data\n",
    "train_set = pd.read_csv('../data/raw/train/conditions.csv')\n",
    "test_set = pd.read_csv('../data/raw/test/conditions.csv')\n",
    "train_patient = pd.read_csv('../data/raw/train/patients.csv')\n",
    "test_patient = pd.read_csv('../data/raw/test/patients.csv')"
   ]
  },
  {
   "cell_type": "markdown",
   "metadata": {},
   "source": [
    "# Features preparation"
   ]
  },
  {
   "cell_type": "markdown",
   "metadata": {},
   "source": [
    "#Patient File"
   ]
  },
  {
   "cell_type": "code",
   "execution_count": 117,
   "metadata": {},
   "outputs": [],
   "source": [
    "# calculate age\n",
    "train_patient[['BIRTHDATE','DEATHDATE']] = train_patient[['BIRTHDATE','DEATHDATE']].astype('datetime64[ns]')\n",
    "test_patient[['BIRTHDATE','DEATHDATE']] = test_patient[['BIRTHDATE','DEATHDATE']].astype('datetime64[ns]')\n",
    "  \n",
    "def calculateAge(index,file): \n",
    "    days_in_year = 365\n",
    "    if str( file.at[index,'DEATHDATE']) == 'NaT':\n",
    "        age = int((datetime.now() - file.at[index,'BIRTHDATE']).days / days_in_year)\n",
    "    else:\n",
    "        age = int((file.at[index,'DEATHDATE'] - file.at[index,'BIRTHDATE']).days / days_in_year)\n",
    "    return age \n",
    "\n",
    "train_patient['AGE']=np.nan\n",
    "for i in range(len(train_patient)):\n",
    "    train_patient.at[i,'AGE'] = calculateAge(i,train_patient)\n",
    "    \n",
    "test_patient['AGE']=np.nan\n",
    "for i in range(len(test_patient)):\n",
    "    test_patient.at[i,'AGE'] = calculateAge(i,test_patient)"
   ]
  },
  {
   "cell_type": "code",
   "execution_count": 118,
   "metadata": {},
   "outputs": [],
   "source": [
    "# check the fatality status\n",
    "def check_death(index,file):\n",
    "    date = '2020-01-01'\n",
    "    my_date = datetime.strptime(date, \"%Y-%m-%d\")\n",
    "    if str( file.at[index,'DEATHDATE']) == 'NaT':\n",
    "        sta = True # ALIVE\n",
    "    elif (int((file.at[index,'DEATHDATE'] - my_date).days)>0):\n",
    "        sta = False # DEAD AFTER 2020\n",
    "    else:\n",
    "        sta = 'DB' #DEAD BEFORE 2020\n",
    "    return sta\n",
    "\n",
    "train_patient['DEATH_2020']=''\n",
    "for i in range(len(train_patient)):\n",
    "    train_patient.at[i,'DEATH_2020'] = check_death(i,train_patient)\n",
    "\n",
    "test_patient['DEATH_2020']=''\n",
    "for i in range(len(test_patient)):\n",
    "    test_patient.at[i,'DEATH_2020'] = check_death(i,test_patient)"
   ]
  },
  {
   "cell_type": "code",
   "execution_count": 119,
   "metadata": {},
   "outputs": [],
   "source": [
    "# create the initial training and testing set for modeling\n",
    "train_final_features = train_patient[['Id','AGE','DEATH_2020']]\n",
    "test_final_features = test_patient[['Id','AGE','DEATH_2020']]\n",
    "train_final_features.index=train_final_features['Id']\n",
    "test_final_features.index=test_final_features['Id']"
   ]
  },
  {
   "cell_type": "markdown",
   "metadata": {},
   "source": [
    "Conditions File"
   ]
  },
  {
   "cell_type": "code",
   "execution_count": 120,
   "metadata": {},
   "outputs": [],
   "source": [
    "# create a list of unique conditions which combines the code and the description\n",
    "code_description =list(set(zip(train_set['CODE'],train_set['DESCRIPTION'])))\n",
    "#840544004 suspect covid-19\n",
    "#840539006 comfirmed covid-19"
   ]
  },
  {
   "cell_type": "code",
   "execution_count": 121,
   "metadata": {},
   "outputs": [],
   "source": [
    "# create features frame \n",
    "train_columns_name = train_set['CODE'].unique().tolist()\n",
    "train_columns_name.insert(0,'PATIENT')\n",
    "train_features = pd.DataFrame(columns = train_columns_name)\n",
    "train_features['PATIENT'] = train_set['PATIENT'].unique().tolist()\n",
    "train_features.index=train_features['PATIENT']\n",
    "\n",
    "test_columns_name = test_set['CODE'].unique().tolist()\n",
    "test_columns_name.insert(0,'PATIENT')\n",
    "#what columns?\n",
    "test_features = pd.DataFrame(columns = test_columns_name)\n",
    "test_features['PATIENT'] = test_set['PATIENT'].unique().tolist()\n",
    "test_features.index=test_features['PATIENT']\n",
    "\n",
    "for i in train_set.index:\n",
    "    train_features.at[train_set.at[i,'PATIENT'], train_set.at[i,'CODE']]=True\n",
    "\n",
    "for i in test_set.index:\n",
    "    test_features.at[test_set.at[i,'PATIENT'], test_set.at[i,'CODE']]=True\n",
    "    \n",
    "train_features = train_features.fillna(False)\n",
    "test_features = test_features.fillna(False)"
   ]
  },
  {
   "cell_type": "code",
   "execution_count": 122,
   "metadata": {},
   "outputs": [],
   "source": [
    "# combine related features to get new features\n",
    "related = [449868002,233604007,65710008]\n",
    "train_features['related'] = (train_features[449868002] & train_features[233604007])| (train_features[449868002]& train_features[65710008])\n",
    "test_features['related'] = (test_features[449868002] & test_features[233604007])|(test_features[449868002] & test_features[65710008])\n",
    "#449868002 Smokes tobacco daily\n",
    "#233604007 Pneumonia (disorder)\n",
    "#65710008 Acute respiratory failure (disorder)"
   ]
  },
  {
   "cell_type": "markdown",
   "metadata": {},
   "source": [
    "#combine two features frame"
   ]
  },
  {
   "cell_type": "markdown",
   "metadata": {},
   "source": [
    "target: train_features[840539006]"
   ]
  },
  {
   "cell_type": "code",
   "execution_count": 123,
   "metadata": {},
   "outputs": [],
   "source": [
    "# merge\n",
    "train_final_features = train_final_features.merge(train_features,how='outer',left_index=True, right_index=True)\n",
    "test_final_features = test_final_features.merge(test_features,how='outer',left_index=True, right_index=True)"
   ]
  },
  {
   "cell_type": "code",
   "execution_count": 124,
   "metadata": {},
   "outputs": [],
   "source": [
    "# find the features which don't show up in the test data\n",
    "notest = []\n",
    "for i in train_columns_name:\n",
    "    if i not in test_columns_name:\n",
    "        notest.append(i)\n",
    "\n",
    "# delete them from the training features and let the features be ready\n",
    "notest.remove(840539006) #target\n",
    "train_final_features = train_final_features.drop(notest,axis='columns')\n",
    "train_final_features = train_final_features.fillna(False)\n",
    "test_final_features = test_final_features.fillna(False)\n",
    "train_final_features = train_final_features.drop(['PATIENT'],axis='columns')\n",
    "test_final_features = test_final_features.drop(['PATIENT'],axis='columns')"
   ]
  },
  {
   "cell_type": "code",
   "execution_count": 125,
   "metadata": {
    "collapsed": true
   },
   "outputs": [
    {
     "data": {
      "text/plain": [
       "['Nasal congestion (finding)',\n",
       " 'Cough (finding)',\n",
       " 'Chill (finding)',\n",
       " 'Fever (finding)',\n",
       " 'Suspected COVID-19',\n",
       " 'Sore throat symptom (finding)',\n",
       " 'Sputum finding (finding)',\n",
       " 'Fatigue (finding)',\n",
       " 'Dyspnea (finding)',\n",
       " 'Wheezing (finding)',\n",
       " 'Hypoxemia (disorder)',\n",
       " 'Respiratory distress (finding)',\n",
       " 'Acute deep venous thrombosis (disorder)',\n",
       " 'Loss of taste (finding)',\n",
       " 'Nausea (finding)',\n",
       " 'Vomiting symptom (finding)',\n",
       " 'Headache (finding)',\n",
       " 'Sepsis caused by virus (disorder)',\n",
       " 'Septic shock (disorder)',\n",
       " 'Heart failure (disorder)',\n",
       " 'Acute respiratory distress syndrome (disorder)',\n",
       " 'Bacterial infectious disease (disorder)',\n",
       " 'Acute pulmonary embolism (disorder)',\n",
       " 'Muscle pain (finding)',\n",
       " 'Joint pain (finding)',\n",
       " 'Acquired coagulation disorder (disorder)',\n",
       " 'Injury of kidney (disorder)',\n",
       " 'Diarrhea symptom (finding)',\n",
       " 'Injury of heart (disorder)',\n",
       " 'Passive conjunctival congestion (finding)',\n",
       " 'Hemoptysis (finding)',\n",
       " 'Non-small cell carcinoma of lung  TNM stage 2 (disorder)',\n",
       " 'Attempted suicide - cut/stab']"
      ]
     },
     "execution_count": 125,
     "metadata": {},
     "output_type": "execute_result"
    }
   ],
   "source": [
    "notest_list = []\n",
    "for code in notest:\n",
    "    description = list(filter(lambda x:code in x, code_description))[0][1]\n",
    "    notest_list.append(description)\n",
    "notest_list"
   ]
  },
  {
   "cell_type": "code",
   "execution_count": 126,
   "metadata": {},
   "outputs": [],
   "source": [
    "# patients died before 2020-01-01 won't get covid_19\n",
    "model_features = train_final_features[train_final_features['DEATH_2020']!='DB'].drop(['Id'],axis='columns')\n",
    "test_model_features = test_final_features[test_final_features['DEATH_2020']!='DB'].drop(['Id'],axis='columns')"
   ]
  },
  {
   "cell_type": "markdown",
   "metadata": {},
   "source": [
    "# imbalance data"
   ]
  },
  {
   "cell_type": "code",
   "execution_count": null,
   "metadata": {},
   "outputs": [],
   "source": [
    "# target is unbalanced\n",
    "model_features[840539006].value_counts()"
   ]
  },
  {
   "cell_type": "code",
   "execution_count": null,
   "metadata": {},
   "outputs": [],
   "source": [
    "model_features_majority = model_features[model_features[840539006]==True]\n",
    "model_features_minority = model_features[model_features[840539006]==False]\n",
    " \n",
    "# Upsample minority class\n",
    "model_features_minority_upsampled = resample(model_features_minority, \n",
    "                                 replace=True,     # sample with replacement\n",
    "                                 n_samples=73697)    # to match majority class\n",
    " \n",
    "# Combine majority class with upsampled minority class\n",
    "model_features_upsampled = pd.concat([model_features_majority, model_features_minority_upsampled])\n",
    " \n",
    "# Display new class counts\n",
    "model_features_upsampled[840539006].value_counts()"
   ]
  },
  {
   "cell_type": "markdown",
   "metadata": {},
   "source": [
    "# Train the Model"
   ]
  },
  {
   "cell_type": "code",
   "execution_count": 127,
   "metadata": {},
   "outputs": [
    {
     "data": {
      "text/plain": [
       "0.8832628508107375"
      ]
     },
     "execution_count": 127,
     "metadata": {},
     "output_type": "execute_result"
    }
   ],
   "source": [
    "rX_train, rX_test, ry_train,ry_test = train_test_split(model_features_upsampled.drop([840539006],axis='columns'),model_features_upsampled[840539006],test_size=0.3,random_state = 42)\n",
    "rmodel = RandomForestClassifier(n_estimators=40,oob_score = True, random_state = 42)\n",
    "rmodel.fit(rX_train, ry_train)\n",
    "rmodel.score(rX_test,ry_test)"
   ]
  },
  {
   "cell_type": "code",
   "execution_count": 130,
   "metadata": {},
   "outputs": [
    {
     "data": {
      "text/plain": [
       "[(0.8731669493578871, 0.8832628508107375)]"
      ]
     },
     "execution_count": 130,
     "metadata": {},
     "output_type": "execute_result"
    }
   ],
   "source": [
    "score = []\n",
    "oob = rmodel.oob_score_\n",
    "acc = accuracy_score(ry_test,rmodel.predict(rX_test))\n",
    "score.append((oob,acc))\n",
    "score"
   ]
  },
  {
   "cell_type": "code",
   "execution_count": 131,
   "metadata": {},
   "outputs": [
    {
     "data": {
      "text/plain": [
       "Text(69.0, 0.5, 'Truth')"
      ]
     },
     "execution_count": 131,
     "metadata": {},
     "output_type": "execute_result"
    },
    {
     "data": {
      "image/png": "[encoded data removed]",
      "text/plain": [
       "<Figure size 720x504 with 2 Axes>"
      ]
     },
     "metadata": {
      "needs_background": "light"
     },
     "output_type": "display_data"
    }
   ],
   "source": [
    "ry_predicted = rmodel.predict(rX_test)\n",
    "rcm = confusion_matrix(ry_test,ry_predicted)\n",
    "plt.figure(figsize=(10,7))\n",
    "sn.heatmap(rcm,annot=True)\n",
    "plt.xlabel('Predicted')\n",
    "plt.ylabel('Truth')"
   ]
  },
  {
   "cell_type": "markdown",
   "metadata": {},
   "source": [
    "# Model Tuning"
   ]
  },
  {
   "cell_type": "code",
   "execution_count": 134,
   "metadata": {},
   "outputs": [],
   "source": [
    "def param_Search_CV(X_train, y_train):\n",
    "    estimator = RandomForestClassifier()\n",
    "    param_grid = {\n",
    "        'n_estimators':[40,70,100],\n",
    "            \"max_features\" : [\"auto\", \"sqrt\", \"log2\"],\n",
    "            #\"max_features\" : [20, 30, 40],\n",
    "            \"max_depth\"     : [50, 100, None],\n",
    "           'min_samples_leaf':[1],\n",
    "           'min_samples_split':[2],\n",
    "            \"bootstrap\": [True, False],\n",
    "            }\n",
    "\n",
    "    grid = RandomizedSearchCV(estimator, param_grid, cv=5)\n",
    "    grid.fit(X_train, y_train)\n",
    "    return grid.best_score_ , grid.best_params_"
   ]
  },
  {
   "cell_type": "code",
   "execution_count": null,
   "metadata": {},
   "outputs": [],
   "source": [
    "score, params = param_Search_CV(rX_train, ry_train)"
   ]
  },
  {
   "cell_type": "code",
   "execution_count": null,
   "metadata": {},
   "outputs": [],
   "source": [
    "score"
   ]
  },
  {
   "cell_type": "code",
   "execution_count": null,
   "metadata": {},
   "outputs": [],
   "source": [
    "params"
   ]
  },
  {
   "cell_type": "markdown",
   "metadata": {},
   "source": [
    "best_params\n",
    "{'n_estimators': 100,\n",
    " 'min_samples_split': 2,\n",
    " 'min_samples_leaf': 1,\n",
    " 'max_features': 'auto',\n",
    " 'max_depth': 50,\n",
    " 'bootstrap': False}"
   ]
  },
  {
   "cell_type": "code",
   "execution_count": 137,
   "metadata": {},
   "outputs": [
    {
     "data": {
      "text/plain": [
       "0.8478029806191908"
      ]
     },
     "execution_count": 137,
     "metadata": {},
     "output_type": "execute_result"
    }
   ],
   "source": [
    "brmodel = RandomForestClassifier(n_estimators=100,min_samples_split = 2, \n",
    "                                 min_samples_leaf = 1, max_features = 'auto', \n",
    "                                 max_depth = 50, oob_score = True, n_jobs=-1,random_state = 42)\n",
    "brmodel.fit(rX_train, ry_train)\n",
    "brmodel.score(rX_test,ry_test)"
   ]
  },
  {
   "cell_type": "code",
   "execution_count": 138,
   "metadata": {},
   "outputs": [
    {
     "data": {
      "text/plain": [
       "0.8405718439544463"
      ]
     },
     "execution_count": 138,
     "metadata": {},
     "output_type": "execute_result"
    }
   ],
   "source": [
    "brmodel.oob_score_"
   ]
  },
  {
   "cell_type": "code",
   "execution_count": null,
   "metadata": {},
   "outputs": [],
   "source": [
    "accuracy_score(ry_test, brmodel.predict(rX_test))"
   ]
  },
  {
   "cell_type": "code",
   "execution_count": 139,
   "metadata": {},
   "outputs": [
    {
     "data": {
      "text/plain": [
       "Text(69.0, 0.5, 'Truth')"
      ]
     },
     "execution_count": 139,
     "metadata": {},
     "output_type": "execute_result"
    },
    {
     "data": {
      "image/png": "[encoded data removed]",
      "text/plain": [
       "<Figure size 720x504 with 2 Axes>"
      ]
     },
     "metadata": {
      "needs_background": "light"
     },
     "output_type": "display_data"
    }
   ],
   "source": [
    "bry_predicted = brmodel.predict(rX_test)\n",
    "brcm = confusion_matrix(ry_test,bry_predicted)\n",
    "plt.figure(figsize=(10,7))\n",
    "sn.heatmap(brcm,annot=True)\n",
    "plt.xlabel('Predicted')\n",
    "plt.ylabel('Truth')"
   ]
  },
  {
   "cell_type": "markdown",
   "metadata": {},
   "source": [
    "# rmodel predict"
   ]
  },
  {
   "cell_type": "code",
   "execution_count": 140,
   "metadata": {},
   "outputs": [],
   "source": [
    "# predict the test file\n",
    "test_predicted = rmodel.predict(test_model_features)\n",
    "test_predicted_proba = rmodel.predict_proba(test_model_features)\n",
    "test_model_features['predicted_proba'] = test_predicted_proba.T[1]\n",
    "test_model_features['predicted'] = test_predicted"
   ]
  },
  {
   "cell_type": "code",
   "execution_count": 141,
   "metadata": {},
   "outputs": [
    {
     "data": {
      "text/plain": [
       "array([False,  True])"
      ]
     },
     "execution_count": 141,
     "metadata": {},
     "output_type": "execute_result"
    }
   ],
   "source": [
    "rmodel.classes_"
   ]
  },
  {
   "cell_type": "code",
   "execution_count": 142,
   "metadata": {},
   "outputs": [],
   "source": [
    "# create final result\n",
    "rm_result = test_model_features[['predicted','predicted_proba']]\n",
    "test_result = pd.DataFrame(test_final_features['Id'])\n",
    "test_result = test_result.merge(rm_result,how='outer',left_index=True, right_index=True)\n",
    "test_result['predicted'] = test_result['predicted'].fillna(False)\n",
    "test_result['predicted_proba'] = test_result['predicted_proba'].fillna(0)"
   ]
  },
  {
   "cell_type": "code",
   "execution_count": 143,
   "metadata": {},
   "outputs": [],
   "source": [
    "test_result.to_csv('COVID_19 Status.csv',index=False)"
   ]
  },
  {
   "cell_type": "code",
   "execution_count": 144,
   "metadata": {},
   "outputs": [
    {
     "data": {
      "text/html": [
       "<div>\n",
       "<style scoped>\n",
       "    .dataframe tbody tr th:only-of-type {\n",
       "        vertical-align: middle;\n",
       "    }\n",
       "\n",
       "    .dataframe tbody tr th {\n",
       "        vertical-align: top;\n",
       "    }\n",
       "\n",
       "    .dataframe thead th {\n",
       "        text-align: right;\n",
       "    }\n",
       "</style>\n",
       "<table border=\"1\" class=\"dataframe\">\n",
       "  <thead>\n",
       "    <tr style=\"text-align: right;\">\n",
       "      <th></th>\n",
       "      <th>Id</th>\n",
       "      <th>predicted</th>\n",
       "      <th>predicted_proba</th>\n",
       "    </tr>\n",
       "  </thead>\n",
       "  <tbody>\n",
       "    <tr>\n",
       "      <th>0000fc3f-6148-4c1b-84b3-253833fa4b1a</th>\n",
       "      <td>0000fc3f-6148-4c1b-84b3-253833fa4b1a</td>\n",
       "      <td>True</td>\n",
       "      <td>0.697630</td>\n",
       "    </tr>\n",
       "    <tr>\n",
       "      <th>0002f1cf-d7f2-4aaa-ab38-92df142b6256</th>\n",
       "      <td>0002f1cf-d7f2-4aaa-ab38-92df142b6256</td>\n",
       "      <td>True</td>\n",
       "      <td>0.691516</td>\n",
       "    </tr>\n",
       "    <tr>\n",
       "      <th>0005df11-ceab-478d-a3d8-39b183804397</th>\n",
       "      <td>0005df11-ceab-478d-a3d8-39b183804397</td>\n",
       "      <td>True</td>\n",
       "      <td>0.750000</td>\n",
       "    </tr>\n",
       "    <tr>\n",
       "      <th>0006cf42-c915-4439-8966-a9e3b2fa3fc4</th>\n",
       "      <td>0006cf42-c915-4439-8966-a9e3b2fa3fc4</td>\n",
       "      <td>False</td>\n",
       "      <td>0.438683</td>\n",
       "    </tr>\n",
       "    <tr>\n",
       "      <th>0009f5f2-b640-4ec5-b9b2-ec4358ca7d76</th>\n",
       "      <td>0009f5f2-b640-4ec5-b9b2-ec4358ca7d76</td>\n",
       "      <td>True</td>\n",
       "      <td>0.551079</td>\n",
       "    </tr>\n",
       "    <tr>\n",
       "      <th>...</th>\n",
       "      <td>...</td>\n",
       "      <td>...</td>\n",
       "      <td>...</td>\n",
       "    </tr>\n",
       "    <tr>\n",
       "      <th>fff364f5-1b04-4294-829b-10c3f8c932cd</th>\n",
       "      <td>fff364f5-1b04-4294-829b-10c3f8c932cd</td>\n",
       "      <td>False</td>\n",
       "      <td>0.000000</td>\n",
       "    </tr>\n",
       "    <tr>\n",
       "      <th>fff3aa04-59db-4b8f-9e48-9f338c18d773</th>\n",
       "      <td>fff3aa04-59db-4b8f-9e48-9f338c18d773</td>\n",
       "      <td>False</td>\n",
       "      <td>0.000000</td>\n",
       "    </tr>\n",
       "    <tr>\n",
       "      <th>fff4c3b3-a827-4aaa-8483-046d9aa89206</th>\n",
       "      <td>fff4c3b3-a827-4aaa-8483-046d9aa89206</td>\n",
       "      <td>True</td>\n",
       "      <td>0.725000</td>\n",
       "    </tr>\n",
       "    <tr>\n",
       "      <th>fff4fd92-1307-453d-94df-5564f456e045</th>\n",
       "      <td>fff4fd92-1307-453d-94df-5564f456e045</td>\n",
       "      <td>True</td>\n",
       "      <td>0.639340</td>\n",
       "    </tr>\n",
       "    <tr>\n",
       "      <th>ffffd249-2295-4e0d-91d1-813f7be87e78</th>\n",
       "      <td>ffffd249-2295-4e0d-91d1-813f7be87e78</td>\n",
       "      <td>False</td>\n",
       "      <td>0.434411</td>\n",
       "    </tr>\n",
       "  </tbody>\n",
       "</table>\n",
       "<p>29492 rows × 3 columns</p>\n",
       "</div>"
      ],
      "text/plain": [
       "                                                                        Id  \\\n",
       "0000fc3f-6148-4c1b-84b3-253833fa4b1a  0000fc3f-6148-4c1b-84b3-253833fa4b1a   \n",
       "0002f1cf-d7f2-4aaa-ab38-92df142b6256  0002f1cf-d7f2-4aaa-ab38-92df142b6256   \n",
       "0005df11-ceab-478d-a3d8-39b183804397  0005df11-ceab-478d-a3d8-39b183804397   \n",
       "0006cf42-c915-4439-8966-a9e3b2fa3fc4  0006cf42-c915-4439-8966-a9e3b2fa3fc4   \n",
       "0009f5f2-b640-4ec5-b9b2-ec4358ca7d76  0009f5f2-b640-4ec5-b9b2-ec4358ca7d76   \n",
       "...                                                                    ...   \n",
       "fff364f5-1b04-4294-829b-10c3f8c932cd  fff364f5-1b04-4294-829b-10c3f8c932cd   \n",
       "fff3aa04-59db-4b8f-9e48-9f338c18d773  fff3aa04-59db-4b8f-9e48-9f338c18d773   \n",
       "fff4c3b3-a827-4aaa-8483-046d9aa89206  fff4c3b3-a827-4aaa-8483-046d9aa89206   \n",
       "fff4fd92-1307-453d-94df-5564f456e045  fff4fd92-1307-453d-94df-5564f456e045   \n",
       "ffffd249-2295-4e0d-91d1-813f7be87e78  ffffd249-2295-4e0d-91d1-813f7be87e78   \n",
       "\n",
       "                                      predicted  predicted_proba  \n",
       "0000fc3f-6148-4c1b-84b3-253833fa4b1a       True         0.697630  \n",
       "0002f1cf-d7f2-4aaa-ab38-92df142b6256       True         0.691516  \n",
       "0005df11-ceab-478d-a3d8-39b183804397       True         0.750000  \n",
       "0006cf42-c915-4439-8966-a9e3b2fa3fc4      False         0.438683  \n",
       "0009f5f2-b640-4ec5-b9b2-ec4358ca7d76       True         0.551079  \n",
       "...                                         ...              ...  \n",
       "fff364f5-1b04-4294-829b-10c3f8c932cd      False         0.000000  \n",
       "fff3aa04-59db-4b8f-9e48-9f338c18d773      False         0.000000  \n",
       "fff4c3b3-a827-4aaa-8483-046d9aa89206       True         0.725000  \n",
       "fff4fd92-1307-453d-94df-5564f456e045       True         0.639340  \n",
       "ffffd249-2295-4e0d-91d1-813f7be87e78      False         0.434411  \n",
       "\n",
       "[29492 rows x 3 columns]"
      ]
     },
     "execution_count": 144,
     "metadata": {},
     "output_type": "execute_result"
    }
   ],
   "source": [
    "test_result"
   ]
  },
  {
   "cell_type": "code",
   "execution_count": 145,
   "metadata": {},
   "outputs": [],
   "source": [
    "test_result[['Id','predicted_proba']].to_csv('COVID_19 Status submission.csv',index=False)"
   ]
  },
  {
   "cell_type": "code",
   "execution_count": 146,
   "metadata": {},
   "outputs": [
    {
     "data": {
      "text/plain": [
       "<matplotlib.axes._subplots.AxesSubplot at 0x7f102053d690>"
      ]
     },
     "execution_count": 146,
     "metadata": {},
     "output_type": "execute_result"
    },
    {
     "data": {
      "image/png": "[encoded data removed]",
      "text/plain": [
       "<Figure size 432x288 with 1 Axes>"
      ]
     },
     "metadata": {
      "needs_background": "light"
     },
     "output_type": "display_data"
    }
   ],
   "source": [
    "# view the result\n",
    "sn.distplot(test_predicted_proba.T[1])"
   ]
  },
  {
   "cell_type": "markdown",
   "metadata": {},
   "source": [
    "# features selection"
   ]
  },
  {
   "cell_type": "code",
   "execution_count": 147,
   "metadata": {},
   "outputs": [
    {
     "data": {
      "text/plain": [
       "<matplotlib.axes._subplots.AxesSubplot at 0x7f102177f350>"
      ]
     },
     "execution_count": 147,
     "metadata": {},
     "output_type": "execute_result"
    },
    {
     "data": {
      "image/png": "[encoded data removed]",
      "text/plain": [
       "<Figure size 432x288 with 1 Axes>"
      ]
     },
     "metadata": {
      "needs_background": "light"
     },
     "output_type": "display_data"
    }
   ],
   "source": [
    "sn.distplot(rmodel.feature_importances_)"
   ]
  },
  {
   "cell_type": "code",
   "execution_count": 148,
   "metadata": {},
   "outputs": [
    {
     "data": {
      "image/png": "[encoded data removed]",
      "text/plain": [
       "<Figure size 432x288 with 1 Axes>"
      ]
     },
     "metadata": {
      "needs_background": "light"
     },
     "output_type": "display_data"
    }
   ],
   "source": [
    "rf_importances = pd.Series(rmodel.feature_importances_, index=rX_train.columns)\n",
    "rf_importances.nlargest(10).plot(kind='barh')\n",
    "plt.show()"
   ]
  },
  {
   "cell_type": "code",
   "execution_count": 149,
   "metadata": {},
   "outputs": [
    {
     "data": {
      "text/plain": [
       "AGE          0.248994\n",
       "233604007    0.118995\n",
       "65710008     0.040994\n",
       "162864005    0.029685\n",
       "40055000     0.029209\n",
       "19169002     0.022577\n",
       "370143000    0.021993\n",
       "449868002    0.018703\n",
       "15777000     0.017952\n",
       "271737000    0.017746\n",
       "dtype: float64"
      ]
     },
     "execution_count": 149,
     "metadata": {},
     "output_type": "execute_result"
    }
   ],
   "source": [
    "rf_importances.nlargest(10)"
   ]
  },
  {
   "cell_type": "code",
   "execution_count": null,
   "metadata": {},
   "outputs": [],
   "source": [
    "from sklearn.ensemble import ExtraTreesClassifier\n",
    "import matplotlib.pyplot as plt\n",
    "selection = ExtraTreesClassifier()\n",
    "selection.fit(rX_train, ry_train)\n",
    "#use inbuilt class feature_importances of tree based classifiers\n",
    "#plot graph of feature importances for better visualization\n",
    "feat_importances = pd.Series(selection.feature_importances_, index=rX_train.columns)\n",
    "feat_importances.nlargest(10).plot(kind='barh')\n",
    "plt.show()"
   ]
  },
  {
   "cell_type": "code",
   "execution_count": null,
   "metadata": {},
   "outputs": [],
   "source": [
    "feat_importances.nlargest(10)"
   ]
  },
  {
   "cell_type": "code",
   "execution_count": null,
   "metadata": {},
   "outputs": [],
   "source": [
    "important_features = list(set(rf_importances.nlargest(10).index.tolist()+feat_importances.nlargest(10).index.tolist()))"
   ]
  },
  {
   "cell_type": "code",
   "execution_count": null,
   "metadata": {},
   "outputs": [],
   "source": [
    "len(important_features)"
   ]
  },
  {
   "cell_type": "code",
   "execution_count": null,
   "metadata": {},
   "outputs": [],
   "source": [
    "features_list = important_features.copy()"
   ]
  },
  {
   "cell_type": "code",
   "execution_count": null,
   "metadata": {},
   "outputs": [],
   "source": [
    "features_list"
   ]
  },
  {
   "cell_type": "code",
   "execution_count": null,
   "metadata": {},
   "outputs": [],
   "source": [
    "features_list.pop(features_list.index('AGE'))"
   ]
  },
  {
   "cell_type": "code",
   "execution_count": null,
   "metadata": {},
   "outputs": [],
   "source": [
    "important_list = []\n",
    "for code in features_list:\n",
    "    description = list(filter(lambda x:code in x, code_description))[0][1]\n",
    "    important_list.append((code,description))"
   ]
  },
  {
   "cell_type": "code",
   "execution_count": null,
   "metadata": {},
   "outputs": [],
   "source": [
    "important_list"
   ]
  }
 ],
 "metadata": {
  "kernelspec": {
   "display_name": "Python 3",
   "language": "python",
   "name": "python3"
  },
  "language_info": {
   "codemirror_mode": {
    "name": "ipython",
    "version": 3
   },
   "file_extension": ".py",
   "mimetype": "text/x-python",
   "name": "python",
   "nbconvert_exporter": "python",
   "pygments_lexer": "ipython3",
   "version": "3.7.3"
  }
 },
 "nbformat": 4,
 "nbformat_minor": 4
}
